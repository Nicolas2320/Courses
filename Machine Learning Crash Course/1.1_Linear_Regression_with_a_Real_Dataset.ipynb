{
 "cells": [
  {
   "cell_type": "code",
   "execution_count": null,
   "metadata": {
    "cellView": "form",
    "id": "wDlWLbfkJtvu"
   },
   "outputs": [],
   "source": [
    "#@title Copyright 2020 Google LLC. Double-click here for license information.\n",
    "# Licensed under the Apache License, Version 2.0 (the \"License\");\n",
    "# you may not use this file except in compliance with the License.\n",
    "# You may obtain a copy of the License at\n",
    "#\n",
    "# https://www.apache.org/licenses/LICENSE-2.0\n",
    "#\n",
    "# Unless required by applicable law or agreed to in writing, software\n",
    "# distributed under the License is distributed on an \"AS IS\" BASIS,\n",
    "# WITHOUT WARRANTIES OR CONDITIONS OF ANY KIND, either express or implied.\n",
    "# See the License for the specific language governing permissions and\n",
    "# limitations under the License."
   ]
  },
  {
   "cell_type": "markdown",
   "metadata": {
    "id": "TL5y5fY9Jy_x"
   },
   "source": [
    "# Linear Regression with a Real Dataset\n",
    "\n",
    "This Colab uses a real dataset to predict the prices of houses in California.   \n",
    "\n",
    "\n",
    "\n",
    "\n"
   ]
  },
  {
   "cell_type": "markdown",
   "metadata": {
    "id": "h8wtceyJj2uX"
   },
   "source": [
    "## Learning Objectives:\n",
    "\n",
    "After doing this Colab, you'll know how to do the following:\n",
    "\n",
    "  * Read a .csv file into a [pandas](https://developers.google.com/machine-learning/glossary/#pandas) DataFrame.\n",
    "  * Examine a [dataset](https://developers.google.com/machine-learning/glossary/#data_set). \n",
    "  * Experiment with different [features](https://developers.google.com/machine-learning/glossary/#feature) in building a model.\n",
    "  * Tune the model's [hyperparameters](https://developers.google.com/machine-learning/glossary/#hyperparameter)."
   ]
  },
  {
   "cell_type": "markdown",
   "metadata": {
    "id": "JJZEgJQSjyK4"
   },
   "source": [
    "## The Dataset\n",
    "  \n",
    "The [dataset for this exercise](https://developers.google.com/machine-learning/crash-course/california-housing-data-description) is based on 1990 census data from California. The dataset is old but still provides a great opportunity to learn about machine learning programming."
   ]
  },
  {
   "cell_type": "markdown",
   "metadata": {
    "id": "xchnxAsaKKqO"
   },
   "source": [
    "## Import relevant modules\n",
    "\n",
    "The following hidden code cell imports the necessary code to run the code in the rest of this Colaboratory."
   ]
  },
  {
   "cell_type": "code",
   "execution_count": 1,
   "metadata": {
    "cellView": "form",
    "id": "9n9_cTveKmse"
   },
   "outputs": [],
   "source": [
    "#@title Import relevant modules\n",
    "import pandas as pd\n",
    "import tensorflow as tf\n",
    "from matplotlib import pyplot as plt\n",
    "\n",
    "# The following lines adjust the granularity of reporting. \n",
    "pd.options.display.max_rows = 10\n",
    "pd.options.display.float_format = \"{:.1f}\".format"
   ]
  },
  {
   "cell_type": "markdown",
   "metadata": {
    "id": "X_TaJhU4KcuY"
   },
   "source": [
    "## The dataset\n",
    "\n",
    "Datasets are often stored on disk or at a URL in [.csv format](https://wikipedia.org/wiki/Comma-separated_values). \n",
    "\n",
    "A well-formed .csv file contains column names in the first row, followed by many rows of data.  A comma divides each value in each row. For example, here are the first five rows of the .csv file file holding the California Housing Dataset:\n",
    "\n",
    "```\n",
    "\"longitude\",\"latitude\",\"housing_median_age\",\"total_rooms\",\"total_bedrooms\",\"population\",\"households\",\"median_income\",\"median_house_value\"\n",
    "-114.310000,34.190000,15.000000,5612.000000,1283.000000,1015.000000,472.000000,1.493600,66900.000000\n",
    "-114.470000,34.400000,19.000000,7650.000000,1901.000000,1129.000000,463.000000,1.820000,80100.000000\n",
    "-114.560000,33.690000,17.000000,720.000000,174.000000,333.000000,117.000000,1.650900,85700.000000\n",
    "-114.570000,33.640000,14.000000,1501.000000,337.000000,515.000000,226.000000,3.191700,73400.000000\n",
    "```\n",
    "\n"
   ]
  },
  {
   "cell_type": "markdown",
   "metadata": {
    "id": "sSFQkzNlj-l6"
   },
   "source": [
    "### Load the .csv file into a pandas DataFrame\n",
    "\n",
    "This Colab, like many machine learning programs, gathers the .csv file and stores the data in memory as a pandas Dataframe.  pandas is an open source Python library.  The primary datatype in pandas is a DataFrame.  You can imagine a pandas DataFrame as a spreadsheet in which each row is identified by a number and each column by a name. pandas is itself built on another open source Python library called NumPy. If you aren't familiar with these technologies, please view these two quick tutorials:\n",
    "\n",
    "*   [NumPy](https://colab.research.google.com/github/google/eng-edu/blob/main/ml/cc/exercises/numpy_ultraquick_tutorial.ipynb?utm_source=linearregressionreal-colab&utm_medium=colab&utm_campaign=colab-external&utm_content=numpy_tf2-colab&hl=en)\n",
    "*   [Pandas DataFrames](https://colab.research.google.com/github/google/eng-edu/blob/main/ml/cc/exercises/pandas_dataframe_ultraquick_tutorial.ipynb?utm_source=linearregressionreal-colab&utm_medium=colab&utm_campaign=colab-external&utm_content=pandas_tf2-colab&hl=en)\n",
    "\n",
    "The following code cell imports the .csv file into a pandas DataFrame and scales the values in the label (`median_house_value`):"
   ]
  },
  {
   "cell_type": "code",
   "execution_count": 2,
   "metadata": {
    "id": "JZlvdpyYKx7V"
   },
   "outputs": [
    {
     "data": {
      "text/html": [
       "<div>\n",
       "<style scoped>\n",
       "    .dataframe tbody tr th:only-of-type {\n",
       "        vertical-align: middle;\n",
       "    }\n",
       "\n",
       "    .dataframe tbody tr th {\n",
       "        vertical-align: top;\n",
       "    }\n",
       "\n",
       "    .dataframe thead th {\n",
       "        text-align: right;\n",
       "    }\n",
       "</style>\n",
       "<table border=\"1\" class=\"dataframe\">\n",
       "  <thead>\n",
       "    <tr style=\"text-align: right;\">\n",
       "      <th></th>\n",
       "      <th>longitude</th>\n",
       "      <th>latitude</th>\n",
       "      <th>housing_median_age</th>\n",
       "      <th>total_rooms</th>\n",
       "      <th>total_bedrooms</th>\n",
       "      <th>population</th>\n",
       "      <th>households</th>\n",
       "      <th>median_income</th>\n",
       "      <th>median_house_value</th>\n",
       "    </tr>\n",
       "  </thead>\n",
       "  <tbody>\n",
       "    <tr>\n",
       "      <th>0</th>\n",
       "      <td>-114.3</td>\n",
       "      <td>34.2</td>\n",
       "      <td>15.0</td>\n",
       "      <td>5612.0</td>\n",
       "      <td>1283.0</td>\n",
       "      <td>1015.0</td>\n",
       "      <td>472.0</td>\n",
       "      <td>1.5</td>\n",
       "      <td>66.9</td>\n",
       "    </tr>\n",
       "    <tr>\n",
       "      <th>1</th>\n",
       "      <td>-114.5</td>\n",
       "      <td>34.4</td>\n",
       "      <td>19.0</td>\n",
       "      <td>7650.0</td>\n",
       "      <td>1901.0</td>\n",
       "      <td>1129.0</td>\n",
       "      <td>463.0</td>\n",
       "      <td>1.8</td>\n",
       "      <td>80.1</td>\n",
       "    </tr>\n",
       "    <tr>\n",
       "      <th>2</th>\n",
       "      <td>-114.6</td>\n",
       "      <td>33.7</td>\n",
       "      <td>17.0</td>\n",
       "      <td>720.0</td>\n",
       "      <td>174.0</td>\n",
       "      <td>333.0</td>\n",
       "      <td>117.0</td>\n",
       "      <td>1.7</td>\n",
       "      <td>85.7</td>\n",
       "    </tr>\n",
       "    <tr>\n",
       "      <th>3</th>\n",
       "      <td>-114.6</td>\n",
       "      <td>33.6</td>\n",
       "      <td>14.0</td>\n",
       "      <td>1501.0</td>\n",
       "      <td>337.0</td>\n",
       "      <td>515.0</td>\n",
       "      <td>226.0</td>\n",
       "      <td>3.2</td>\n",
       "      <td>73.4</td>\n",
       "    </tr>\n",
       "    <tr>\n",
       "      <th>4</th>\n",
       "      <td>-114.6</td>\n",
       "      <td>33.6</td>\n",
       "      <td>20.0</td>\n",
       "      <td>1454.0</td>\n",
       "      <td>326.0</td>\n",
       "      <td>624.0</td>\n",
       "      <td>262.0</td>\n",
       "      <td>1.9</td>\n",
       "      <td>65.5</td>\n",
       "    </tr>\n",
       "  </tbody>\n",
       "</table>\n",
       "</div>"
      ],
      "text/plain": [
       "   longitude  latitude  housing_median_age  total_rooms  total_bedrooms  \\\n",
       "0     -114.3      34.2                15.0       5612.0          1283.0   \n",
       "1     -114.5      34.4                19.0       7650.0          1901.0   \n",
       "2     -114.6      33.7                17.0        720.0           174.0   \n",
       "3     -114.6      33.6                14.0       1501.0           337.0   \n",
       "4     -114.6      33.6                20.0       1454.0           326.0   \n",
       "\n",
       "   population  households  median_income  median_house_value  \n",
       "0      1015.0       472.0            1.5                66.9  \n",
       "1      1129.0       463.0            1.8                80.1  \n",
       "2       333.0       117.0            1.7                85.7  \n",
       "3       515.0       226.0            3.2                73.4  \n",
       "4       624.0       262.0            1.9                65.5  "
      ]
     },
     "execution_count": 2,
     "metadata": {},
     "output_type": "execute_result"
    }
   ],
   "source": [
    "# Import the dataset.\n",
    "training_df = pd.read_csv(filepath_or_buffer=\"https://download.mlcc.google.com/mledu-datasets/california_housing_train.csv\")\n",
    "\n",
    "# Scale the label.\n",
    "training_df[\"median_house_value\"] /= 1000.0\n",
    "\n",
    "# Print the first rows of the pandas DataFrame.\n",
    "training_df.head()"
   ]
  },
  {
   "cell_type": "markdown",
   "metadata": {
    "id": "5inxx49n4U9u"
   },
   "source": [
    "Scaling `median_house_value` puts the value of each house in units of thousands. Scaling will keep loss values and learning rates in a friendlier range.  \n",
    "\n",
    "Although scaling a label is usually *not* essential, scaling features in a multi-feature model usually *is* essential."
   ]
  },
  {
   "cell_type": "markdown",
   "metadata": {
    "id": "yMysi6-3IAbu"
   },
   "source": [
    "## Examine the dataset\n",
    "\n",
    "A large part of most machine learning projects is getting to know your data. The pandas API provides a `describe` function that outputs the following statistics about every column in the DataFrame:\n",
    "\n",
    "* `count`, which is the number of rows in that column. Ideally, `count` contains the same value for every column. \n",
    "\n",
    "* `mean` and `std`, which contain the mean and standard deviation of the values in each column. \n",
    "\n",
    "* `min` and `max`, which contain the lowest and highest values in each column.\n",
    "\n",
    "* `25%`, `50%`, `75%`, which contain various [quantiles](https://developers.google.com/machine-learning/glossary/#quantile)."
   ]
  },
  {
   "cell_type": "code",
   "execution_count": 3,
   "metadata": {
    "id": "rnUSYKw4LUuh"
   },
   "outputs": [
    {
     "data": {
      "text/html": [
       "<div>\n",
       "<style scoped>\n",
       "    .dataframe tbody tr th:only-of-type {\n",
       "        vertical-align: middle;\n",
       "    }\n",
       "\n",
       "    .dataframe tbody tr th {\n",
       "        vertical-align: top;\n",
       "    }\n",
       "\n",
       "    .dataframe thead th {\n",
       "        text-align: right;\n",
       "    }\n",
       "</style>\n",
       "<table border=\"1\" class=\"dataframe\">\n",
       "  <thead>\n",
       "    <tr style=\"text-align: right;\">\n",
       "      <th></th>\n",
       "      <th>longitude</th>\n",
       "      <th>latitude</th>\n",
       "      <th>housing_median_age</th>\n",
       "      <th>total_rooms</th>\n",
       "      <th>total_bedrooms</th>\n",
       "      <th>population</th>\n",
       "      <th>households</th>\n",
       "      <th>median_income</th>\n",
       "      <th>median_house_value</th>\n",
       "    </tr>\n",
       "  </thead>\n",
       "  <tbody>\n",
       "    <tr>\n",
       "      <th>count</th>\n",
       "      <td>17000.0</td>\n",
       "      <td>17000.0</td>\n",
       "      <td>17000.0</td>\n",
       "      <td>17000.0</td>\n",
       "      <td>17000.0</td>\n",
       "      <td>17000.0</td>\n",
       "      <td>17000.0</td>\n",
       "      <td>17000.0</td>\n",
       "      <td>17000.0</td>\n",
       "    </tr>\n",
       "    <tr>\n",
       "      <th>mean</th>\n",
       "      <td>-119.6</td>\n",
       "      <td>35.6</td>\n",
       "      <td>28.6</td>\n",
       "      <td>2643.7</td>\n",
       "      <td>539.4</td>\n",
       "      <td>1429.6</td>\n",
       "      <td>501.2</td>\n",
       "      <td>3.9</td>\n",
       "      <td>207.3</td>\n",
       "    </tr>\n",
       "    <tr>\n",
       "      <th>std</th>\n",
       "      <td>2.0</td>\n",
       "      <td>2.1</td>\n",
       "      <td>12.6</td>\n",
       "      <td>2179.9</td>\n",
       "      <td>421.5</td>\n",
       "      <td>1147.9</td>\n",
       "      <td>384.5</td>\n",
       "      <td>1.9</td>\n",
       "      <td>116.0</td>\n",
       "    </tr>\n",
       "    <tr>\n",
       "      <th>min</th>\n",
       "      <td>-124.3</td>\n",
       "      <td>32.5</td>\n",
       "      <td>1.0</td>\n",
       "      <td>2.0</td>\n",
       "      <td>1.0</td>\n",
       "      <td>3.0</td>\n",
       "      <td>1.0</td>\n",
       "      <td>0.5</td>\n",
       "      <td>15.0</td>\n",
       "    </tr>\n",
       "    <tr>\n",
       "      <th>25%</th>\n",
       "      <td>-121.8</td>\n",
       "      <td>33.9</td>\n",
       "      <td>18.0</td>\n",
       "      <td>1462.0</td>\n",
       "      <td>297.0</td>\n",
       "      <td>790.0</td>\n",
       "      <td>282.0</td>\n",
       "      <td>2.6</td>\n",
       "      <td>119.4</td>\n",
       "    </tr>\n",
       "    <tr>\n",
       "      <th>50%</th>\n",
       "      <td>-118.5</td>\n",
       "      <td>34.2</td>\n",
       "      <td>29.0</td>\n",
       "      <td>2127.0</td>\n",
       "      <td>434.0</td>\n",
       "      <td>1167.0</td>\n",
       "      <td>409.0</td>\n",
       "      <td>3.5</td>\n",
       "      <td>180.4</td>\n",
       "    </tr>\n",
       "    <tr>\n",
       "      <th>75%</th>\n",
       "      <td>-118.0</td>\n",
       "      <td>37.7</td>\n",
       "      <td>37.0</td>\n",
       "      <td>3151.2</td>\n",
       "      <td>648.2</td>\n",
       "      <td>1721.0</td>\n",
       "      <td>605.2</td>\n",
       "      <td>4.8</td>\n",
       "      <td>265.0</td>\n",
       "    </tr>\n",
       "    <tr>\n",
       "      <th>max</th>\n",
       "      <td>-114.3</td>\n",
       "      <td>42.0</td>\n",
       "      <td>52.0</td>\n",
       "      <td>37937.0</td>\n",
       "      <td>6445.0</td>\n",
       "      <td>35682.0</td>\n",
       "      <td>6082.0</td>\n",
       "      <td>15.0</td>\n",
       "      <td>500.0</td>\n",
       "    </tr>\n",
       "  </tbody>\n",
       "</table>\n",
       "</div>"
      ],
      "text/plain": [
       "       longitude  latitude  housing_median_age  total_rooms  total_bedrooms  \\\n",
       "count    17000.0   17000.0             17000.0      17000.0         17000.0   \n",
       "mean      -119.6      35.6                28.6       2643.7           539.4   \n",
       "std          2.0       2.1                12.6       2179.9           421.5   \n",
       "min       -124.3      32.5                 1.0          2.0             1.0   \n",
       "25%       -121.8      33.9                18.0       1462.0           297.0   \n",
       "50%       -118.5      34.2                29.0       2127.0           434.0   \n",
       "75%       -118.0      37.7                37.0       3151.2           648.2   \n",
       "max       -114.3      42.0                52.0      37937.0          6445.0   \n",
       "\n",
       "       population  households  median_income  median_house_value  \n",
       "count     17000.0     17000.0        17000.0             17000.0  \n",
       "mean       1429.6       501.2            3.9               207.3  \n",
       "std        1147.9       384.5            1.9               116.0  \n",
       "min           3.0         1.0            0.5                15.0  \n",
       "25%         790.0       282.0            2.6               119.4  \n",
       "50%        1167.0       409.0            3.5               180.4  \n",
       "75%        1721.0       605.2            4.8               265.0  \n",
       "max       35682.0      6082.0           15.0               500.0  "
      ]
     },
     "execution_count": 3,
     "metadata": {},
     "output_type": "execute_result"
    }
   ],
   "source": [
    "# Get statistics on the dataset.\n",
    "training_df.describe()\n"
   ]
  },
  {
   "cell_type": "markdown",
   "metadata": {
    "id": "f9pcW_Yjtoo8"
   },
   "source": [
    "### Task 1: Identify anomalies in the dataset\n",
    "\n",
    "Do you see any anomalies (strange values) in the data? "
   ]
  },
  {
   "cell_type": "code",
   "execution_count": 4,
   "metadata": {
    "cellView": "form",
    "id": "UoS7NWRXEs1H"
   },
   "outputs": [],
   "source": [
    "#@title Double-click to view a possible answer.\n",
    "\n",
    "# The maximum value (max) of several columns seems very\n",
    "# high compared to the other quantiles. For example,\n",
    "# example the total_rooms column. Given the quantile\n",
    "# values (25%, 50%, and 75%), you might expect the \n",
    "# max value of total_rooms to be approximately \n",
    "# 5,000 or possibly 10,000. However, the max value \n",
    "# is actually 37,937.\n",
    "\n",
    "# When you see anomalies in a column, become more careful\n",
    "# about using that column as a feature. That said,\n",
    "# anomalies in potential features sometimes mirror \n",
    "# anomalies in the label, which could make the column \n",
    "# be (or seem to be) a powerful feature.\n",
    "# Also, as you will see later in the course, you \n",
    "# might be able to represent (pre-process) raw data \n",
    "# in order to make columns into useful features."
   ]
  },
  {
   "cell_type": "markdown",
   "metadata": {
    "id": "3014ezH3C7jT"
   },
   "source": [
    "## Define functions that build and train a model\n",
    "\n",
    "The following code defines two functions:\n",
    "\n",
    "  * `build_model(my_learning_rate)`, which builds a randomly-initialized model.\n",
    "  * `train_model(model, feature, label, epochs)`, which trains the model from the examples (feature and label) you pass. \n",
    "\n",
    "Since you don't need to understand model building code right now, we've hidden this code cell.  You may optionally double-click the following headline to see the code that builds and trains a model."
   ]
  },
  {
   "cell_type": "code",
   "execution_count": 5,
   "metadata": {
    "cellView": "form",
    "id": "pedD5GhlDC-y"
   },
   "outputs": [
    {
     "name": "stdout",
     "output_type": "stream",
     "text": [
      "Defined the create_model and traing_model functions.\n"
     ]
    }
   ],
   "source": [
    "#@title Define the functions that build and train a model\n",
    "def build_model(my_learning_rate):\n",
    "    \"\"\"Create and compile a simple linear regression model.\"\"\"\n",
    "  # Most simple tf.keras models are sequential.\n",
    "    model = tf.keras.models.Sequential()\n",
    "\n",
    "    # Describe the topography of the model.\n",
    "    # The topography of a simple linear regression model\n",
    "    # is a single node in a single layer.\n",
    "    model.add(tf.keras.layers.Dense(units=1, \n",
    "                                  input_shape=(1,)))\n",
    "\n",
    "    # Compile the model topography into code that TensorFlow can efficiently\n",
    "    # execute. Configure training to minimize the model's mean squared error. \n",
    "    model.compile(optimizer=tf.keras.optimizers.RMSprop(lr=my_learning_rate),\n",
    "                loss=\"mean_squared_error\",\n",
    "                metrics=[tf.keras.metrics.RootMeanSquaredError()])\n",
    "\n",
    "    return model        \n",
    "\n",
    "\n",
    "def train_model(model, df, feature, label, epochs, batch_size):\n",
    "    \"\"\"Train the model by feeding it data.\"\"\"\n",
    "\n",
    "    # Feed the model the feature and the label.\n",
    "    # The model will train for the specified number of epochs. \n",
    "    history = model.fit(x=df[feature],\n",
    "                      y=df[label],\n",
    "                      batch_size=batch_size,\n",
    "                      epochs=epochs)\n",
    "\n",
    "    # Gather the trained model's weight and bias.\n",
    "    trained_weight = model.get_weights()[0]\n",
    "    trained_bias = model.get_weights()[1]\n",
    "\n",
    "    # The list of epochs is stored separately from the rest of history.\n",
    "    epochs = history.epoch\n",
    "  \n",
    "    # Isolate the error for each epoch.\n",
    "    hist = pd.DataFrame(history.history)\n",
    "\n",
    "    # To track the progression of training, we're going to take a snapshot\n",
    "    # of the model's root mean squared error at each epoch. \n",
    "    rmse = hist[\"root_mean_squared_error\"]\n",
    "\n",
    "    return trained_weight, trained_bias, epochs, rmse\n",
    "  \n",
    "print(\"Defined the create_model and traing_model functions.\")"
   ]
  },
  {
   "cell_type": "markdown",
   "metadata": {
    "id": "Ak_TMAzGOIFq"
   },
   "source": [
    "## Define plotting functions\n",
    "\n",
    "The following [matplotlib](https://developers.google.com/machine-learning/glossary/#matplotlib) functions create the following plots:\n",
    "\n",
    "*  a scatter plot of the feature vs. the label, and a line showing the output of the trained model\n",
    "*  a loss curve\n",
    "\n",
    "You may optionally double-click the headline to see the matplotlib code, but note that writing matplotlib code is not an important part of learning ML programming."
   ]
  },
  {
   "cell_type": "code",
   "execution_count": 6,
   "metadata": {
    "cellView": "form",
    "id": "QF0BFRXTOeR3"
   },
   "outputs": [
    {
     "name": "stdout",
     "output_type": "stream",
     "text": [
      "Defined the plot_the_model and plot_the_loss_curve functions.\n"
     ]
    }
   ],
   "source": [
    "#@title Define the plotting functions\n",
    "def plot_the_model(trained_weight, trained_bias, feature, label):\n",
    "    \"\"\"Plot the trained model against 200 random training examples.\"\"\"\n",
    "\n",
    "    # Label the axes.\n",
    "    plt.xlabel(feature)\n",
    "    plt.ylabel(label)\n",
    "\n",
    "    # Create a scatter plot from 200 random points of the dataset.\n",
    "    random_examples = training_df.sample(n=200)\n",
    "    plt.scatter(random_examples[feature], random_examples[label])\n",
    "\n",
    "    # Create a red line representing the model. The red line starts\n",
    "    # at coordinates (x0, y0) and ends at coordinates (x1, y1).\n",
    "    x0 = 0\n",
    "    y0 = trained_bias\n",
    "    x1 = 10000\n",
    "    y1 = trained_bias + (trained_weight * x1)\n",
    "    plt.plot([x0, x1], [y0, y1], c='r')\n",
    "\n",
    "    # Render the scatter plot and the red line.\n",
    "    plt.show()\n",
    "\n",
    "\n",
    "def plot_the_loss_curve(epochs, rmse):\n",
    "    \"\"\"Plot a curve of loss vs. epoch.\"\"\"\n",
    "\n",
    "    plt.figure()\n",
    "    plt.xlabel(\"Epoch\")\n",
    "    plt.ylabel(\"Root Mean Squared Error\")\n",
    "\n",
    "    plt.plot(epochs, rmse, label=\"Loss\")\n",
    "    plt.legend()\n",
    "    plt.ylim([rmse.min()*0.97, rmse.max()])\n",
    "    plt.show()  \n",
    "\n",
    "print(\"Defined the plot_the_model and plot_the_loss_curve functions.\")"
   ]
  },
  {
   "cell_type": "markdown",
   "metadata": {
    "id": "D-IXYVfvM4gD"
   },
   "source": [
    "## Call the model functions\n",
    "\n",
    "An important part of machine learning is determining which [features](https://developers.google.com/machine-learning/glossary/#feature) correlate with the [label](https://developers.google.com/machine-learning/glossary/#label). For example, real-life home-value prediction models typically rely on hundreds of features and synthetic features. However, this model relies on only one feature. For now, you'll arbitrarily use `total_rooms` as that feature. \n"
   ]
  },
  {
   "cell_type": "code",
   "execution_count": 7,
   "metadata": {
    "cellView": "both",
    "id": "nj3v5EKQFY8s"
   },
   "outputs": [
    {
     "name": "stdout",
     "output_type": "stream",
     "text": [
      "Epoch 1/30\n",
      "567/567 [==============================] - 1s 912us/step - loss: 30073.4863 - root_mean_squared_error: 173.4171\n",
      "Epoch 2/30\n",
      "567/567 [==============================] - 0s 746us/step - loss: 27531.7461 - root_mean_squared_error: 165.9269\n",
      "Epoch 3/30\n",
      "567/567 [==============================] - 0s 711us/step - loss: 26683.4668 - root_mean_squared_error: 163.3508\n",
      "Epoch 4/30\n",
      "567/567 [==============================] - 0s 704us/step - loss: 26325.8652 - root_mean_squared_error: 162.2525\n",
      "Epoch 5/30\n",
      "567/567 [==============================] - 0s 694us/step - loss: 25483.1406 - root_mean_squared_error: 159.6344\n",
      "Epoch 6/30\n",
      "567/567 [==============================] - 0s 708us/step - loss: 24966.8926 - root_mean_squared_error: 158.0092\n",
      "Epoch 7/30\n",
      "567/567 [==============================] - 0s 702us/step - loss: 24362.5918 - root_mean_squared_error: 156.0852\n",
      "Epoch 8/30\n",
      "567/567 [==============================] - 0s 712us/step - loss: 23683.1680 - root_mean_squared_error: 153.8934\n",
      "Epoch 9/30\n",
      "567/567 [==============================] - 0s 715us/step - loss: 22994.5254 - root_mean_squared_error: 151.6395\n",
      "Epoch 10/30\n",
      "567/567 [==============================] - 0s 726us/step - loss: 22435.6309 - root_mean_squared_error: 149.7853\n",
      "Epoch 11/30\n",
      "567/567 [==============================] - 0s 715us/step - loss: 21974.1953 - root_mean_squared_error: 148.2370\n",
      "Epoch 12/30\n",
      "567/567 [==============================] - 0s 721us/step - loss: 21414.7207 - root_mean_squared_error: 146.3377\n",
      "Epoch 13/30\n",
      "567/567 [==============================] - 0s 705us/step - loss: 20905.4395 - root_mean_squared_error: 144.5871\n",
      "Epoch 14/30\n",
      "567/567 [==============================] - 0s 693us/step - loss: 20413.4277 - root_mean_squared_error: 142.8756\n",
      "Epoch 15/30\n",
      "567/567 [==============================] - 0s 735us/step - loss: 19930.8867 - root_mean_squared_error: 141.1768\n",
      "Epoch 16/30\n",
      "567/567 [==============================] - 0s 720us/step - loss: 19439.4570 - root_mean_squared_error: 139.4255\n",
      "Epoch 17/30\n",
      "567/567 [==============================] - 0s 726us/step - loss: 19003.5625 - root_mean_squared_error: 137.8534\n",
      "Epoch 18/30\n",
      "567/567 [==============================] - 0s 712us/step - loss: 18436.0254 - root_mean_squared_error: 135.7793\n",
      "Epoch 19/30\n",
      "567/567 [==============================] - 0s 741us/step - loss: 18277.4922 - root_mean_squared_error: 135.1943\n",
      "Epoch 20/30\n",
      "567/567 [==============================] - 0s 708us/step - loss: 17772.7637 - root_mean_squared_error: 133.3145\n",
      "Epoch 21/30\n",
      "567/567 [==============================] - 0s 696us/step - loss: 17511.1191 - root_mean_squared_error: 132.3296\n",
      "Epoch 22/30\n",
      "567/567 [==============================] - 0s 712us/step - loss: 17177.3809 - root_mean_squared_error: 131.0625\n",
      "Epoch 23/30\n",
      "567/567 [==============================] - 0s 724us/step - loss: 17004.8379 - root_mean_squared_error: 130.4026\n",
      "Epoch 24/30\n",
      "567/567 [==============================] - 0s 717us/step - loss: 16739.3809 - root_mean_squared_error: 129.3808\n",
      "Epoch 25/30\n",
      "567/567 [==============================] - 0s 721us/step - loss: 16236.0850 - root_mean_squared_error: 127.4209\n",
      "Epoch 26/30\n",
      "567/567 [==============================] - 0s 714us/step - loss: 16105.6455 - root_mean_squared_error: 126.9080\n",
      "Epoch 27/30\n",
      "567/567 [==============================] - 0s 700us/step - loss: 15909.6680 - root_mean_squared_error: 126.1335\n",
      "Epoch 28/30\n",
      "567/567 [==============================] - 0s 717us/step - loss: 15692.2695 - root_mean_squared_error: 125.2688 0s - loss: 15704.7725 - root_mean_squared_error: 125.3\n",
      "Epoch 29/30\n",
      "567/567 [==============================] - 0s 709us/step - loss: 15521.9834 - root_mean_squared_error: 124.5872\n",
      "Epoch 30/30\n",
      "567/567 [==============================] - 0s 705us/step - loss: 15262.4238 - root_mean_squared_error: 123.5412\n",
      "\n",
      "The learned weight for your model is 0.0155\n",
      "The learned bias for your model is 132.1778\n",
      "\n"
     ]
    },
    {
     "name": "stderr",
     "output_type": "stream",
     "text": [
      "C:\\Users\\USUARIO\\anaconda3\\lib\\site-packages\\numpy\\core\\_asarray.py:171: VisibleDeprecationWarning: Creating an ndarray from ragged nested sequences (which is a list-or-tuple of lists-or-tuples-or ndarrays with different lengths or shapes) is deprecated. If you meant to do this, you must specify 'dtype=object' when creating the ndarray.\n",
      "  return array(a, dtype, copy=False, order=order, subok=True)\n"
     ]
    },
    {
     "data": {
      "image/png": "[encoded data removed]",
      "text/plain": [
       "<Figure size 432x288 with 1 Axes>"
      ]
     },
     "metadata": {
      "needs_background": "light"
     },
     "output_type": "display_data"
    },
    {
     "data": {
      "image/png": "[encoded data removed]",
      "text/plain": [
       "<Figure size 432x288 with 1 Axes>"
      ]
     },
     "metadata": {
      "needs_background": "light"
     },
     "output_type": "display_data"
    }
   ],
   "source": [
    "# The following variables are the hyperparameters.\n",
    "learning_rate = 0.01\n",
    "epochs = 30\n",
    "batch_size = 30\n",
    "\n",
    "# Specify the feature and the label.\n",
    "my_feature = \"total_rooms\"  # the total number of rooms on a specific city block.\n",
    "my_label=\"median_house_value\" # the median value of a house on a specific city block.\n",
    "# That is, you're going to create a model that predicts house value based \n",
    "# solely on total_rooms.  \n",
    "\n",
    "# Discard any pre-existing version of the model.\n",
    "my_model = None\n",
    "\n",
    "# Invoke the functions.\n",
    "my_model = build_model(learning_rate)\n",
    "weight, bias, epochs, rmse = train_model(my_model, training_df, \n",
    "                                         my_feature, my_label,\n",
    "                                         epochs, batch_size)\n",
    "\n",
    "print(\"\\nThe learned weight for your model is %.4f\" % weight)\n",
    "print(\"The learned bias for your model is %.4f\\n\" % bias )\n",
    "\n",
    "plot_the_model(weight, bias, my_feature, my_label)\n",
    "plot_the_loss_curve(epochs, rmse)"
   ]
  },
  {
   "cell_type": "markdown",
   "metadata": {
    "id": "Btp8zUNbYOcd"
   },
   "source": [
    "A certain amount of randomness plays into training a model. Consequently, you'll get different results each time you train the model. That said, given the dataset and the hyperparameters, the trained model will generally do a poor job describing the feature's relation to the label."
   ]
  },
  {
   "cell_type": "markdown",
   "metadata": {
    "id": "1xNqWWos_zyk"
   },
   "source": [
    "## Use the model to make predictions\n",
    "\n",
    "You can use the trained model to make predictions. In practice, [you should make predictions on examples that are not used in training](https://developers.google.com/machine-learning/crash-course/training-and-test-sets/splitting-data). However, for this exercise, you'll just work with a subset of the same training dataset. A later Colab exercise will explore ways to make predictions on examples not used in training.\n",
    "\n",
    "First, run the following code to define the house prediction function:"
   ]
  },
  {
   "cell_type": "code",
   "execution_count": 8,
   "metadata": {
    "id": "nH63BmncAcab"
   },
   "outputs": [],
   "source": [
    "def predict_house_values(n, feature, label):\n",
    "    \"\"\"Predict house values based on a feature.\"\"\"\n",
    "\n",
    "    batch = training_df[feature][10000:10000 + n]\n",
    "    predicted_values = my_model.predict_on_batch(x=batch)\n",
    "\n",
    "    print(\"feature   label          predicted\")\n",
    "    print(\"  value   value          value\")\n",
    "    print(\"          in thousand$   in thousand$\")\n",
    "    print(\"--------------------------------------\")\n",
    "    for i in range(n):\n",
    "        print (\"%5.0f %6.0f %15.0f\" % (training_df[feature][10000 + i],\n",
    "                                   training_df[label][10000 + i],\n",
    "                                   predicted_values[i][0] ))"
   ]
  },
  {
   "cell_type": "markdown",
   "metadata": {
    "id": "NbBNQujU5WjK"
   },
   "source": [
    "Now, invoke the house prediction function on 10 examples:"
   ]
  },
  {
   "cell_type": "code",
   "execution_count": 9,
   "metadata": {
    "id": "Y_0DGBt0Kz_N"
   },
   "outputs": [
    {
     "name": "stdout",
     "output_type": "stream",
     "text": [
      "feature   label          predicted\n",
      "  value   value          value\n",
      "          in thousand$   in thousand$\n",
      "--------------------------------------\n",
      " 1960     53             163\n",
      " 3400     92             185\n",
      " 3677     69             189\n",
      " 2202     62             166\n",
      " 2403     80             169\n",
      " 5652    295             220\n",
      " 3318    500             184\n",
      " 2552    342             172\n",
      " 1364    118             153\n",
      " 3468    128             186\n"
     ]
    }
   ],
   "source": [
    "predict_house_values(10, my_feature, my_label)"
   ]
  },
  {
   "cell_type": "markdown",
   "metadata": {
    "id": "-gGaqArcpqY3"
   },
   "source": [
    "### Task 2: Judge the predictive power of the model\n",
    "\n",
    "Look at the preceding table. How close is the predicted value to the label value?  In other words, does your model accurately predict house values?  "
   ]
  },
  {
   "cell_type": "code",
   "execution_count": 10,
   "metadata": {
    "cellView": "form",
    "id": "yVpjhUFm9uID"
   },
   "outputs": [],
   "source": [
    "#@title Double-click to view the answer.\n",
    "\n",
    "# Most of the predicted values differ significantly\n",
    "# from the label value, so the trained model probably \n",
    "# doesn't have much predictive power. However, the\n",
    "# first 10 examples might not be representative of \n",
    "# the rest of the examples.  "
   ]
  },
  {
   "cell_type": "markdown",
   "metadata": {
    "id": "wLoqis3IUPSd"
   },
   "source": [
    "## Task 3: Try a different feature\n",
    "\n",
    "The `total_rooms` feature had only a little predictive power. Would a different feature have greater predictive power?  Try using `population` as the feature instead of `total_rooms`. \n",
    "\n",
    "Note: When you change features, you might also need to change the hyperparameters."
   ]
  },
  {
   "cell_type": "code",
   "execution_count": 11,
   "metadata": {
    "id": "H0ab6HD4ZO75"
   },
   "outputs": [
    {
     "name": "stdout",
     "output_type": "stream",
     "text": [
      "Epoch 1/3\n",
      "142/142 [==============================] - 0s 730us/step - loss: 3456233.0000 - root_mean_squared_error: 1859.0947\n",
      "Epoch 2/3\n",
      "142/142 [==============================] - 0s 1ms/step - loss: 3334614.0000 - root_mean_squared_error: 1826.0925\n",
      "Epoch 3/3\n",
      "142/142 [==============================] - 0s 676us/step - loss: 3111573.2500 - root_mean_squared_error: 1763.9652\n"
     ]
    },
    {
     "name": "stderr",
     "output_type": "stream",
     "text": [
      "C:\\Users\\USUARIO\\anaconda3\\lib\\site-packages\\numpy\\core\\_asarray.py:171: VisibleDeprecationWarning: Creating an ndarray from ragged nested sequences (which is a list-or-tuple of lists-or-tuples-or ndarrays with different lengths or shapes) is deprecated. If you meant to do this, you must specify 'dtype=object' when creating the ndarray.\n",
      "  return array(a, dtype, copy=False, order=order, subok=True)\n"
     ]
    },
    {
     "data": {
      "image/png": "[encoded data removed]",
      "text/plain": [
       "<Figure size 432x288 with 1 Axes>"
      ]
     },
     "metadata": {
      "needs_background": "light"
     },
     "output_type": "display_data"
    },
    {
     "data": {
      "image/png": "[encoded data removed]",
      "text/plain": [
       "<Figure size 432x288 with 1 Axes>"
      ]
     },
     "metadata": {
      "needs_background": "light"
     },
     "output_type": "display_data"
    },
    {
     "name": "stdout",
     "output_type": "stream",
     "text": [
      "feature   label          predicted\n",
      "  value   value          value\n",
      "          in thousand$   in thousand$\n",
      "--------------------------------------\n",
      " 1286     53            -139\n",
      " 1867     92            -221\n",
      " 2191     69            -266\n",
      " 1052     62            -106\n",
      " 1647     80            -190\n",
      " 2312    295            -283\n",
      " 1604    500            -184\n",
      " 1066    342            -108\n",
      "  338    118              -5\n",
      " 1604    128            -184\n",
      " 1200    187            -127\n",
      "  292     80               1\n",
      " 2014    112            -241\n",
      " 1817     95            -214\n",
      " 1328     69            -145\n"
     ]
    }
   ],
   "source": [
    "my_feature = \"population\"   # Replace the ? with population or possibly\n",
    "                   # a different column name.\n",
    "\n",
    "# Experiment with the hyperparameters.\n",
    "learning_rate = 2\n",
    "epochs = 3\n",
    "batch_size = 120\n",
    "\n",
    "# Don't change anything below this line.\n",
    "my_model = build_model(learning_rate)\n",
    "weight, bias, epochs, rmse = train_model(my_model, training_df, \n",
    "                                         my_feature, my_label,\n",
    "                                         epochs, batch_size)\n",
    "plot_the_model(weight, bias, my_feature, my_label)\n",
    "plot_the_loss_curve(epochs, rmse)\n",
    "\n",
    "predict_house_values(15, my_feature, my_label)"
   ]
  },
  {
   "cell_type": "code",
   "execution_count": 12,
   "metadata": {
    "cellView": "form",
    "id": "107mDkW7U6mg"
   },
   "outputs": [
    {
     "name": "stdout",
     "output_type": "stream",
     "text": [
      "Epoch 1/18\n",
      "5667/5667 [==============================] - 4s 684us/step - loss: 40503.8438 - root_mean_squared_error: 201.2557\n",
      "Epoch 2/18\n",
      "5667/5667 [==============================] - 4s 677us/step - loss: 19735.6113 - root_mean_squared_error: 140.4835\n",
      "Epoch 3/18\n",
      "5667/5667 [==============================] - 4s 662us/step - loss: 18150.1543 - root_mean_squared_error: 134.7225 0s - loss: 18242.0742 - root_mean_squared_\n",
      "Epoch 4/18\n",
      "5667/5667 [==============================] - 4s 657us/step - loss: 18121.6855 - root_mean_squared_error: 134.6168\n",
      "Epoch 5/18\n",
      "5667/5667 [==============================] - 4s 632us/step - loss: 18187.7656 - root_mean_squared_error: 134.8620\n",
      "Epoch 6/18\n",
      "5667/5667 [==============================] - 4s 667us/step - loss: 18173.1133 - root_mean_squared_error: 134.8077\n",
      "Epoch 7/18\n",
      "5667/5667 [==============================] - 4s 666us/step - loss: 18311.9004 - root_mean_squared_error: 135.3215\n",
      "Epoch 8/18\n",
      "5667/5667 [==============================] - 4s 704us/step - loss: 18047.4883 - root_mean_squared_error: 134.3409\n",
      "Epoch 9/18\n",
      "5667/5667 [==============================] - 4s 756us/step - loss: 18008.5410 - root_mean_squared_error: 134.1959\n",
      "Epoch 10/18\n",
      "5667/5667 [==============================] - 4s 762us/step - loss: 18251.2168 - root_mean_squared_error: 135.0971\n",
      "Epoch 11/18\n",
      "5667/5667 [==============================] - 4s 768us/step - loss: 17981.6074 - root_mean_squared_error: 134.0955\n",
      "Epoch 12/18\n",
      "5667/5667 [==============================] - 4s 761us/step - loss: 18146.4316 - root_mean_squared_error: 134.7087\n",
      "Epoch 13/18\n",
      "5667/5667 [==============================] - 4s 762us/step - loss: 17710.8320 - root_mean_squared_error: 133.0820\n",
      "Epoch 14/18\n",
      "5667/5667 [==============================] - 4s 756us/step - loss: 18096.3906 - root_mean_squared_error: 134.5228\n",
      "Epoch 15/18\n",
      "5667/5667 [==============================] - 5s 798us/step - loss: 17941.5566 - root_mean_squared_error: 133.9461\n",
      "Epoch 16/18\n",
      "5667/5667 [==============================] - 4s 789us/step - loss: 17877.0312 - root_mean_squared_error: 133.7050\n",
      "Epoch 17/18\n",
      "5667/5667 [==============================] - 4s 759us/step - loss: 18028.0195 - root_mean_squared_error: 134.2685\n",
      "Epoch 18/18\n",
      "5667/5667 [==============================] - 4s 761us/step - loss: 17973.6523 - root_mean_squared_error: 134.0659\n"
     ]
    },
    {
     "name": "stderr",
     "output_type": "stream",
     "text": [
      "C:\\Users\\USUARIO\\anaconda3\\lib\\site-packages\\numpy\\core\\_asarray.py:171: VisibleDeprecationWarning: Creating an ndarray from ragged nested sequences (which is a list-or-tuple of lists-or-tuples-or ndarrays with different lengths or shapes) is deprecated. If you meant to do this, you must specify 'dtype=object' when creating the ndarray.\n",
      "  return array(a, dtype, copy=False, order=order, subok=True)\n"
     ]
    },
    {
     "data": {
      "image/png": "[encoded data removed]",
      "text/plain": [
       "<Figure size 432x288 with 1 Axes>"
      ]
     },
     "metadata": {
      "needs_background": "light"
     },
     "output_type": "display_data"
    },
    {
     "data": {
      "image/png": "[encoded data removed]",
      "text/plain": [
       "<Figure size 432x288 with 1 Axes>"
      ]
     },
     "metadata": {
      "needs_background": "light"
     },
     "output_type": "display_data"
    },
    {
     "name": "stdout",
     "output_type": "stream",
     "text": [
      "feature   label          predicted\n",
      "  value   value          value\n",
      "          in thousand$   in thousand$\n",
      "--------------------------------------\n",
      " 1286     53             170\n",
      " 1867     92             152\n",
      " 2191     69             142\n",
      " 1052     62             178\n",
      " 1647     80             159\n",
      " 2312    295             138\n",
      " 1604    500             160\n",
      " 1066    342             178\n",
      "  338    118             201\n",
      " 1604    128             160\n"
     ]
    }
   ],
   "source": [
    "#@title Double-click to view a possible solution.\n",
    "\n",
    "my_feature = \"population\" # Pick a feature other than \"total_rooms\"\n",
    "\n",
    "# Possibly, experiment with the hyperparameters.\n",
    "learning_rate = 0.05\n",
    "epochs = 18\n",
    "batch_size = 3\n",
    "\n",
    "# Don't change anything below.\n",
    "my_model = build_model(learning_rate)\n",
    "weight, bias, epochs, rmse = train_model(my_model, training_df, \n",
    "                                         my_feature, my_label,\n",
    "                                         epochs, batch_size)\n",
    "\n",
    "plot_the_model(weight, bias, my_feature, my_label)\n",
    "plot_the_loss_curve(epochs, rmse)\n",
    "\n",
    "predict_house_values(10, my_feature, my_label)"
   ]
  },
  {
   "cell_type": "markdown",
   "metadata": {
    "id": "Nd_rHJ59AUtk"
   },
   "source": [
    "Did `population` produce better predictions than `total_rooms`?"
   ]
  },
  {
   "cell_type": "code",
   "execution_count": 13,
   "metadata": {
    "cellView": "form",
    "id": "F0tPEtzcC-vK"
   },
   "outputs": [],
   "source": [
    "#@title Double-click to view the answer.\n",
    "\n",
    "# Training is not entirely deterministic, but population \n",
    "# typically converges at a slightly higher RMSE than \n",
    "# total_rooms.  So, population appears to be about \n",
    "# the same or slightly worse at making predictions \n",
    "# than total_rooms."
   ]
  },
  {
   "cell_type": "markdown",
   "metadata": {
    "id": "C8uYpyGacsIg"
   },
   "source": [
    "## Task 4: Define a synthetic feature\n",
    "\n",
    "You have determined that `total_rooms` and `population` were not useful features.  That is, neither the total number of rooms in a neighborhood nor the neighborhood's population successfully predicted the median house price of that neighborhood. Perhaps though, the *ratio* of `total_rooms` to `population` might have some predictive power. That is, perhaps block density relates to median house value.\n",
    "\n",
    "To explore this hypothesis, do the following: \n",
    "\n",
    "1. Create a [synthetic feature](https://developers.google.com/machine-learning/glossary/#synthetic_feature) that's a ratio of `total_rooms` to `population`. (If you are new to pandas DataFrames, please study the [Pandas DataFrame Ultraquick Tutorial](https://colab.research.google.com/github/google/eng-edu/blob/main/ml/cc/exercises/pandas_dataframe_ultraquick_tutorial.ipynb?utm_source=linearregressionreal-colab&utm_medium=colab&utm_campaign=colab-external&utm_content=pandas_tf2-colab&hl=en).)\n",
    "2. Tune the three hyperparameters.\n",
    "3. Determine whether this synthetic feature produces \n",
    "   a lower loss value than any of the single features you \n",
    "   tried earlier in this exercise."
   ]
  },
  {
   "cell_type": "code",
   "execution_count": 15,
   "metadata": {
    "id": "4Kx2xHSgdcpg"
   },
   "outputs": [
    {
     "name": "stdout",
     "output_type": "stream",
     "text": [
      "Epoch 1/100\n",
      "1700/1700 [==============================] - 1s 673us/step - loss: 45477.7656 - root_mean_squared_error: 213.2552\n",
      "Epoch 2/100\n",
      "1700/1700 [==============================] - 1s 661us/step - loss: 30652.5137 - root_mean_squared_error: 175.0786\n",
      "Epoch 3/100\n",
      "1700/1700 [==============================] - 1s 668us/step - loss: 21493.4844 - root_mean_squared_error: 146.6066\n",
      "Epoch 4/100\n",
      "1700/1700 [==============================] - 1s 661us/step - loss: 16989.9688 - root_mean_squared_error: 130.3456\n",
      "Epoch 5/100\n",
      "1700/1700 [==============================] - 1s 654us/step - loss: 15435.6074 - root_mean_squared_error: 124.2401\n",
      "Epoch 6/100\n",
      "1700/1700 [==============================] - 1s 668us/step - loss: 15148.9004 - root_mean_squared_error: 123.0809 0s - loss: 15657.1045 - root_mean_squared_error\n",
      "Epoch 7/100\n",
      "1700/1700 [==============================] - 1s 670us/step - loss: 15145.8506 - root_mean_squared_error: 123.0685\n",
      "Epoch 8/100\n",
      "1700/1700 [==============================] - 1s 674us/step - loss: 15141.8125 - root_mean_squared_error: 123.0521\n",
      "Epoch 9/100\n",
      "1700/1700 [==============================] - 1s 675us/step - loss: 15160.3506 - root_mean_squared_error: 123.1274\n",
      "Epoch 10/100\n",
      "1700/1700 [==============================] - 1s 669us/step - loss: 15152.5850 - root_mean_squared_error: 123.0958\n",
      "Epoch 11/100\n",
      "1700/1700 [==============================] - 1s 656us/step - loss: 15131.6982 - root_mean_squared_error: 123.0110 0s - loss: 15395.7559 - root_mean_squared_erro\n",
      "Epoch 12/100\n",
      "1700/1700 [==============================] - 1s 663us/step - loss: 15098.4688 - root_mean_squared_error: 122.8758\n",
      "Epoch 13/100\n",
      "1700/1700 [==============================] - 1s 672us/step - loss: 15070.3965 - root_mean_squared_error: 122.7615\n",
      "Epoch 14/100\n",
      "1700/1700 [==============================] - 1s 657us/step - loss: 15052.2803 - root_mean_squared_error: 122.6877\n",
      "Epoch 15/100\n",
      "1700/1700 [==============================] - 1s 656us/step - loss: 15044.9561 - root_mean_squared_error: 122.6579\n",
      "Epoch 16/100\n",
      "1700/1700 [==============================] - 1s 667us/step - loss: 15015.2432 - root_mean_squared_error: 122.5367\n",
      "Epoch 17/100\n",
      "1700/1700 [==============================] - 1s 659us/step - loss: 14969.5049 - root_mean_squared_error: 122.3499\n",
      "Epoch 18/100\n",
      "1700/1700 [==============================] - 1s 645us/step - loss: 14951.7275 - root_mean_squared_error: 122.2773\n",
      "Epoch 19/100\n",
      "1700/1700 [==============================] - 1s 642us/step - loss: 14914.8242 - root_mean_squared_error: 122.1263\n",
      "Epoch 20/100\n",
      "1700/1700 [==============================] - 1s 658us/step - loss: 14877.9707 - root_mean_squared_error: 121.9753\n",
      "Epoch 21/100\n",
      "1700/1700 [==============================] - 1s 662us/step - loss: 14893.2266 - root_mean_squared_error: 122.0378\n",
      "Epoch 22/100\n",
      "1700/1700 [==============================] - 1s 661us/step - loss: 14845.9111 - root_mean_squared_error: 121.8438\n",
      "Epoch 23/100\n",
      "1700/1700 [==============================] - 1s 655us/step - loss: 14819.1973 - root_mean_squared_error: 121.7341\n",
      "Epoch 24/100\n",
      "1700/1700 [==============================] - 1s 661us/step - loss: 14811.2080 - root_mean_squared_error: 121.7013\n",
      "Epoch 25/100\n",
      "1700/1700 [==============================] - 1s 663us/step - loss: 14792.3916 - root_mean_squared_error: 121.6240\n",
      "Epoch 26/100\n",
      "1700/1700 [==============================] - 1s 674us/step - loss: 14794.2197 - root_mean_squared_error: 121.6315\n",
      "Epoch 27/100\n",
      "1700/1700 [==============================] - 1s 737us/step - loss: 14765.1055 - root_mean_squared_error: 121.5118\n",
      "Epoch 28/100\n",
      "1700/1700 [==============================] - 1s 729us/step - loss: 14720.2598 - root_mean_squared_error: 121.3271\n",
      "Epoch 29/100\n",
      "1700/1700 [==============================] - 1s 723us/step - loss: 14705.0771 - root_mean_squared_error: 121.2645\n",
      "Epoch 30/100\n",
      "1700/1700 [==============================] - 1s 728us/step - loss: 14691.0811 - root_mean_squared_error: 121.2068\n",
      "Epoch 31/100\n",
      "1700/1700 [==============================] - 1s 736us/step - loss: 14661.8721 - root_mean_squared_error: 121.0862\n",
      "Epoch 32/100\n",
      "1700/1700 [==============================] - 1s 721us/step - loss: 14638.1943 - root_mean_squared_error: 120.9884\n",
      "Epoch 33/100\n",
      "1700/1700 [==============================] - 1s 734us/step - loss: 14630.9795 - root_mean_squared_error: 120.9586\n",
      "Epoch 34/100\n",
      "1700/1700 [==============================] - 1s 721us/step - loss: 14621.5195 - root_mean_squared_error: 120.9195\n",
      "Epoch 35/100\n",
      "1700/1700 [==============================] - 1s 728us/step - loss: 14575.9502 - root_mean_squared_error: 120.7309\n",
      "Epoch 36/100\n",
      "1700/1700 [==============================] - 1s 726us/step - loss: 14580.0537 - root_mean_squared_error: 120.7479\n",
      "Epoch 37/100\n",
      "1700/1700 [==============================] - 1s 723us/step - loss: 14587.7061 - root_mean_squared_error: 120.7796\n",
      "Epoch 38/100\n",
      "1700/1700 [==============================] - 1s 724us/step - loss: 14574.6357 - root_mean_squared_error: 120.7255\n",
      "Epoch 39/100\n",
      "1700/1700 [==============================] - 1s 721us/step - loss: 14532.6621 - root_mean_squared_error: 120.5515\n",
      "Epoch 40/100\n",
      "1700/1700 [==============================] - 1s 727us/step - loss: 14522.4648 - root_mean_squared_error: 120.5092\n",
      "Epoch 41/100\n",
      "1700/1700 [==============================] - 1s 723us/step - loss: 14505.8184 - root_mean_squared_error: 120.4401\n",
      "Epoch 42/100\n",
      "1700/1700 [==============================] - 1s 718us/step - loss: 14483.6904 - root_mean_squared_error: 120.3482\n",
      "Epoch 43/100\n",
      "1700/1700 [==============================] - 1s 723us/step - loss: 14490.6709 - root_mean_squared_error: 120.3772\n",
      "Epoch 44/100\n",
      "1700/1700 [==============================] - 1s 723us/step - loss: 14481.0557 - root_mean_squared_error: 120.3373\n",
      "Epoch 45/100\n",
      "1700/1700 [==============================] - 1s 725us/step - loss: 14474.1094 - root_mean_squared_error: 120.3084\n",
      "Epoch 46/100\n",
      "1700/1700 [==============================] - 1s 721us/step - loss: 14456.7734 - root_mean_squared_error: 120.2363\n",
      "Epoch 47/100\n",
      "1700/1700 [==============================] - 1s 724us/step - loss: 14456.6992 - root_mean_squared_error: 120.2360\n",
      "Epoch 48/100\n",
      "1700/1700 [==============================] - 1s 726us/step - loss: 14438.0156 - root_mean_squared_error: 120.1583\n",
      "Epoch 49/100\n",
      "1700/1700 [==============================] - 1s 723us/step - loss: 14424.3604 - root_mean_squared_error: 120.1015\n",
      "Epoch 50/100\n",
      "1700/1700 [==============================] - 1s 724us/step - loss: 14406.8789 - root_mean_squared_error: 120.0287\n",
      "Epoch 51/100\n",
      "1700/1700 [==============================] - 1s 724us/step - loss: 14402.8027 - root_mean_squared_error: 120.0117\n",
      "Epoch 52/100\n",
      "1700/1700 [==============================] - 1s 720us/step - loss: 14402.4336 - root_mean_squared_error: 120.0101\n",
      "Epoch 53/100\n",
      "1700/1700 [==============================] - 1s 726us/step - loss: 14372.4902 - root_mean_squared_error: 119.8853\n",
      "Epoch 54/100\n",
      "1700/1700 [==============================] - 1s 720us/step - loss: 14360.9531 - root_mean_squared_error: 119.8372\n",
      "Epoch 55/100\n",
      "1700/1700 [==============================] - 1s 726us/step - loss: 14352.2383 - root_mean_squared_error: 119.8008\n",
      "Epoch 56/100\n",
      "1700/1700 [==============================] - 1s 725us/step - loss: 14346.1904 - root_mean_squared_error: 119.7756\n",
      "Epoch 57/100\n",
      "1700/1700 [==============================] - 1s 728us/step - loss: 14330.5820 - root_mean_squared_error: 119.7104\n",
      "Epoch 58/100\n",
      "1700/1700 [==============================] - 1s 725us/step - loss: 14306.1787 - root_mean_squared_error: 119.6084\n",
      "Epoch 59/100\n",
      "1700/1700 [==============================] - 1s 725us/step - loss: 14272.9531 - root_mean_squared_error: 119.4695\n",
      "Epoch 60/100\n",
      "1700/1700 [==============================] - 1s 730us/step - loss: 14315.7334 - root_mean_squared_error: 119.6484\n",
      "Epoch 61/100\n",
      "1700/1700 [==============================] - 1s 725us/step - loss: 14300.5244 - root_mean_squared_error: 119.5848\n",
      "Epoch 62/100\n",
      "1700/1700 [==============================] - 1s 729us/step - loss: 14291.5098 - root_mean_squared_error: 119.5471\n",
      "Epoch 63/100\n",
      "1700/1700 [==============================] - 1s 726us/step - loss: 14282.2100 - root_mean_squared_error: 119.5082\n",
      "Epoch 64/100\n"
     ]
    },
    {
     "name": "stdout",
     "output_type": "stream",
     "text": [
      "1700/1700 [==============================] - 1s 722us/step - loss: 14271.4297 - root_mean_squared_error: 119.4631\n",
      "Epoch 65/100\n",
      "1700/1700 [==============================] - 1s 718us/step - loss: 14279.7051 - root_mean_squared_error: 119.4977\n",
      "Epoch 66/100\n",
      "1700/1700 [==============================] - 1s 714us/step - loss: 14253.7373 - root_mean_squared_error: 119.3890\n",
      "Epoch 67/100\n",
      "1700/1700 [==============================] - 1s 709us/step - loss: 14284.3936 - root_mean_squared_error: 119.5173\n",
      "Epoch 68/100\n",
      "1700/1700 [==============================] - 1s 723us/step - loss: 14261.3174 - root_mean_squared_error: 119.4208\n",
      "Epoch 69/100\n",
      "1700/1700 [==============================] - 1s 744us/step - loss: 14250.5898 - root_mean_squared_error: 119.3758\n",
      "Epoch 70/100\n",
      "1700/1700 [==============================] - 1s 724us/step - loss: 14246.6846 - root_mean_squared_error: 119.3595\n",
      "Epoch 71/100\n",
      "1700/1700 [==============================] - 1s 712us/step - loss: 14250.8643 - root_mean_squared_error: 119.3770\n",
      "Epoch 72/100\n",
      "1700/1700 [==============================] - 1s 720us/step - loss: 14230.2793 - root_mean_squared_error: 119.2907\n",
      "Epoch 73/100\n",
      "1700/1700 [==============================] - 1s 733us/step - loss: 14245.4189 - root_mean_squared_error: 119.3542\n",
      "Epoch 74/100\n",
      "1700/1700 [==============================] - 1s 715us/step - loss: 14233.3955 - root_mean_squared_error: 119.3038\n",
      "Epoch 75/100\n",
      "1700/1700 [==============================] - 1s 725us/step - loss: 14228.2471 - root_mean_squared_error: 119.2822\n",
      "Epoch 76/100\n",
      "1700/1700 [==============================] - 1s 790us/step - loss: 14225.2656 - root_mean_squared_error: 119.2697 0s - loss: 14757.7012 - root_mean_squa\n",
      "Epoch 77/100\n",
      "1700/1700 [==============================] - 1s 770us/step - loss: 14205.9004 - root_mean_squared_error: 119.1885\n",
      "Epoch 78/100\n",
      "1700/1700 [==============================] - 1s 786us/step - loss: 14209.8105 - root_mean_squared_error: 119.2049\n",
      "Epoch 79/100\n",
      "1700/1700 [==============================] - 1s 750us/step - loss: 14196.7402 - root_mean_squared_error: 119.1501\n",
      "Epoch 80/100\n",
      "1700/1700 [==============================] - 1s 718us/step - loss: 14159.9414 - root_mean_squared_error: 118.9956\n",
      "Epoch 81/100\n",
      "1700/1700 [==============================] - 1s 717us/step - loss: 14199.3301 - root_mean_squared_error: 119.1609\n",
      "Epoch 82/100\n",
      "1700/1700 [==============================] - 1s 719us/step - loss: 14211.8662 - root_mean_squared_error: 119.2135\n",
      "Epoch 83/100\n",
      "1700/1700 [==============================] - 1s 719us/step - loss: 14193.8193 - root_mean_squared_error: 119.1378\n",
      "Epoch 84/100\n",
      "1700/1700 [==============================] - 1s 721us/step - loss: 14190.0801 - root_mean_squared_error: 119.1221\n",
      "Epoch 85/100\n",
      "1700/1700 [==============================] - 1s 716us/step - loss: 14159.1816 - root_mean_squared_error: 118.9924\n",
      "Epoch 86/100\n",
      "1700/1700 [==============================] - 1s 722us/step - loss: 14151.6475 - root_mean_squared_error: 118.9607\n",
      "Epoch 87/100\n",
      "1700/1700 [==============================] - 1s 716us/step - loss: 14173.0898 - root_mean_squared_error: 119.0508\n",
      "Epoch 88/100\n",
      "1700/1700 [==============================] - 1s 714us/step - loss: 14137.4473 - root_mean_squared_error: 118.9010\n",
      "Epoch 89/100\n",
      "1700/1700 [==============================] - 1s 721us/step - loss: 14144.1318 - root_mean_squared_error: 118.9291\n",
      "Epoch 90/100\n",
      "1700/1700 [==============================] - 1s 719us/step - loss: 14146.4365 - root_mean_squared_error: 118.9388 0s - loss: 14573.2852 - root_mean_squared_error: \n",
      "Epoch 91/100\n",
      "1700/1700 [==============================] - 1s 730us/step - loss: 14136.7920 - root_mean_squared_error: 118.8982\n",
      "Epoch 92/100\n",
      "1700/1700 [==============================] - 1s 848us/step - loss: 14139.1064 - root_mean_squared_error: 118.9080\n",
      "Epoch 93/100\n",
      "1700/1700 [==============================] - 1s 731us/step - loss: 14129.0312 - root_mean_squared_error: 118.8656\n",
      "Epoch 94/100\n",
      "1700/1700 [==============================] - 1s 737us/step - loss: 14133.5791 - root_mean_squared_error: 118.8847\n",
      "Epoch 95/100\n",
      "1700/1700 [==============================] - 1s 764us/step - loss: 14149.7822 - root_mean_squared_error: 118.9529\n",
      "Epoch 96/100\n",
      "1700/1700 [==============================] - 1s 751us/step - loss: 14148.6807 - root_mean_squared_error: 118.9482\n",
      "Epoch 97/100\n",
      "1700/1700 [==============================] - 1s 747us/step - loss: 14135.1309 - root_mean_squared_error: 118.8913\n",
      "Epoch 98/100\n",
      "1700/1700 [==============================] - 1s 768us/step - loss: 14122.5723 - root_mean_squared_error: 118.8384\n",
      "Epoch 99/100\n",
      "1700/1700 [==============================] - 1s 764us/step - loss: 14105.1152 - root_mean_squared_error: 118.7650\n",
      "Epoch 100/100\n",
      "1700/1700 [==============================] - 1s 741us/step - loss: 14119.2715 - root_mean_squared_error: 118.8245\n"
     ]
    },
    {
     "data": {
      "image/png": "[encoded data removed]",
      "text/plain": [
       "<Figure size 432x288 with 1 Axes>"
      ]
     },
     "metadata": {
      "needs_background": "light"
     },
     "output_type": "display_data"
    },
    {
     "name": "stdout",
     "output_type": "stream",
     "text": [
      "feature   label          predicted\n",
      "  value   value          value\n",
      "          in thousand$   in thousand$\n",
      "--------------------------------------\n",
      "    2     53             184\n",
      "    2     92             199\n",
      "    2     69             192\n",
      "    2     62             213\n",
      "    1     80             181\n",
      "    2    295             231\n",
      "    2    500             212\n",
      "    2    342             228\n",
      "    4    118             311\n",
      "    2    128             217\n",
      "    2    187             230\n",
      "    3     80             243\n",
      "    2    112             230\n",
      "    2     95             223\n",
      "    2     69             212\n"
     ]
    }
   ],
   "source": [
    "# Define a synthetic feature named rooms_per_person\n",
    "training_df[\"rooms_per_person\"] = training_df[\"total_rooms\"] / training_df[\"population\"] # write your code here.\n",
    "\n",
    "# Don't change the next line.\n",
    "my_feature = \"rooms_per_person\"\n",
    "\n",
    "# Assign values to these three hyperparameters.\n",
    "learning_rate = 0.01\n",
    "epochs = 100\n",
    "batch_size = 10\n",
    "\n",
    "# Don't change anything below this line.\n",
    "my_model = build_model(learning_rate)\n",
    "weight, bias, epochs, rmse = train_model(my_model, training_df,\n",
    "                                         my_feature, my_label,\n",
    "                                         epochs, batch_size)\n",
    "\n",
    "plot_the_loss_curve(epochs, rmse)\n",
    "predict_house_values(15, my_feature, my_label)"
   ]
  },
  {
   "cell_type": "code",
   "execution_count": 16,
   "metadata": {
    "cellView": "form",
    "id": "xRfxp_3yofe3"
   },
   "outputs": [
    {
     "name": "stdout",
     "output_type": "stream",
     "text": [
      "Epoch 1/24\n",
      "567/567 [==============================] - 0s 770us/step - loss: 39179.7070 - root_mean_squared_error: 197.9386\n",
      "Epoch 2/24\n",
      "567/567 [==============================] - 0s 811us/step - loss: 19051.7871 - root_mean_squared_error: 138.0282\n",
      "Epoch 3/24\n",
      "567/567 [==============================] - 0s 775us/step - loss: 15171.6943 - root_mean_squared_error: 123.1734\n",
      "Epoch 4/24\n",
      "567/567 [==============================] - 0s 769us/step - loss: 14844.0918 - root_mean_squared_error: 121.8363\n",
      "Epoch 5/24\n",
      "567/567 [==============================] - 0s 767us/step - loss: 14758.7148 - root_mean_squared_error: 121.4855\n",
      "Epoch 6/24\n",
      "567/567 [==============================] - 0s 768us/step - loss: 14596.5303 - root_mean_squared_error: 120.8161\n",
      "Epoch 7/24\n",
      "567/567 [==============================] - 0s 789us/step - loss: 14419.0449 - root_mean_squared_error: 120.0793\n",
      "Epoch 8/24\n",
      "567/567 [==============================] - 0s 785us/step - loss: 14262.5576 - root_mean_squared_error: 119.4259\n",
      "Epoch 9/24\n",
      "567/567 [==============================] - 0s 777us/step - loss: 14073.6230 - root_mean_squared_error: 118.6323\n",
      "Epoch 10/24\n",
      "567/567 [==============================] - 0s 774us/step - loss: 13946.9941 - root_mean_squared_error: 118.0974 0s - loss: 13783.8447 - root_mean_squared_error: 117.\n",
      "Epoch 11/24\n",
      "567/567 [==============================] - 0s 793us/step - loss: 13858.3340 - root_mean_squared_error: 117.7214\n",
      "Epoch 12/24\n",
      "567/567 [==============================] - 0s 783us/step - loss: 13804.9375 - root_mean_squared_error: 117.4944\n",
      "Epoch 13/24\n",
      "567/567 [==============================] - 0s 796us/step - loss: 13753.9609 - root_mean_squared_error: 117.2773\n",
      "Epoch 14/24\n",
      "567/567 [==============================] - 0s 766us/step - loss: 13676.9102 - root_mean_squared_error: 116.9483\n",
      "Epoch 15/24\n",
      "567/567 [==============================] - 0s 813us/step - loss: 13642.6367 - root_mean_squared_error: 116.8017\n",
      "Epoch 16/24\n",
      "567/567 [==============================] - 0s 784us/step - loss: 13584.3916 - root_mean_squared_error: 116.5521\n",
      "Epoch 17/24\n",
      "567/567 [==============================] - 0s 824us/step - loss: 13542.0195 - root_mean_squared_error: 116.3702\n",
      "Epoch 18/24\n",
      "567/567 [==============================] - 0s 807us/step - loss: 13493.5010 - root_mean_squared_error: 116.1615\n",
      "Epoch 19/24\n",
      "567/567 [==============================] - 0s 850us/step - loss: 13457.8906 - root_mean_squared_error: 116.0081\n",
      "Epoch 20/24\n",
      "567/567 [==============================] - 0s 782us/step - loss: 13406.3486 - root_mean_squared_error: 115.7858\n",
      "Epoch 21/24\n",
      "567/567 [==============================] - 0s 775us/step - loss: 13425.5928 - root_mean_squared_error: 115.8689\n",
      "Epoch 22/24\n",
      "567/567 [==============================] - 0s 774us/step - loss: 13385.5312 - root_mean_squared_error: 115.6959\n",
      "Epoch 23/24\n",
      "567/567 [==============================] - 0s 791us/step - loss: 13369.3896 - root_mean_squared_error: 115.6261\n",
      "Epoch 24/24\n",
      "567/567 [==============================] - 0s 779us/step - loss: 13356.1182 - root_mean_squared_error: 115.5687\n"
     ]
    },
    {
     "data": {
      "image/png": "[encoded data removed]",
      "text/plain": [
       "<Figure size 432x288 with 1 Axes>"
      ]
     },
     "metadata": {
      "needs_background": "light"
     },
     "output_type": "display_data"
    },
    {
     "name": "stdout",
     "output_type": "stream",
     "text": [
      "feature   label          predicted\n",
      "  value   value          value\n",
      "          in thousand$   in thousand$\n",
      "--------------------------------------\n",
      "    2     53             188\n",
      "    2     92             200\n",
      "    2     69             194\n",
      "    2     62             210\n",
      "    1     80             186\n",
      "    2    295             224\n",
      "    2    500             210\n",
      "    2    342             222\n",
      "    4    118             286\n",
      "    2    128             213\n",
      "    2    187             223\n",
      "    3     80             233\n",
      "    2    112             224\n",
      "    2     95             218\n",
      "    2     69             210\n"
     ]
    }
   ],
   "source": [
    "#@title Double-click to view a possible solution to Task 4.\n",
    "\n",
    "# Define a synthetic feature\n",
    "training_df[\"rooms_per_person\"] = training_df[\"total_rooms\"] / training_df[\"population\"]\n",
    "my_feature = \"rooms_per_person\"\n",
    "\n",
    "# Tune the hyperparameters.\n",
    "learning_rate = 0.06\n",
    "epochs = 24\n",
    "batch_size = 30\n",
    "\n",
    "# Don't change anything below this line.\n",
    "my_model = build_model(learning_rate)\n",
    "weight, bias, epochs, mae = train_model(my_model, training_df,\n",
    "                                        my_feature, my_label,\n",
    "                                        epochs, batch_size)\n",
    "\n",
    "plot_the_loss_curve(epochs, mae)\n",
    "predict_house_values(15, my_feature, my_label)\n"
   ]
  },
  {
   "cell_type": "markdown",
   "metadata": {
    "id": "HBiDWursB1Wi"
   },
   "source": [
    "Based on the loss values, this synthetic feature produces a better model than the individual features you tried in Task 2 and Task 3. However, the model still isn't creating great predictions.\n"
   ]
  },
  {
   "cell_type": "markdown",
   "metadata": {
    "id": "XEG_9oU9O54u"
   },
   "source": [
    "## Task 5. Find feature(s) whose raw values correlate with the label\n",
    "\n",
    "So far, we've relied on trial-and-error to identify possible features for the model.  Let's rely on statistics instead.\n",
    "\n",
    "A **correlation matrix** indicates how each attribute's raw values relate to the other attributes' raw values. Correlation values have the following meanings:\n",
    "\n",
    "  * `1.0`: perfect positive correlation; that is, when one attribute rises, the other attribute rises.\n",
    "  * `-1.0`: perfect negative correlation; that is, when one attribute rises, the other attribute falls. \n",
    "  * `0.0`: no correlation; the two columns [are not linearly related](https://en.wikipedia.org/wiki/Correlation_and_dependence#/media/File:Correlation_examples2.svg).\n",
    "\n",
    "In general, the higher the absolute value of a correlation value, the greater its predictive power. For example, a correlation value of -0.8 implies far more predictive power than a correlation of -0.2.\n",
    "\n",
    "The following code cell generates the correlation matrix for attributes of the California Housing Dataset:"
   ]
  },
  {
   "cell_type": "code",
   "execution_count": 17,
   "metadata": {
    "id": "zFGKL45LO8Tt"
   },
   "outputs": [
    {
     "data": {
      "text/html": [
       "<div>\n",
       "<style scoped>\n",
       "    .dataframe tbody tr th:only-of-type {\n",
       "        vertical-align: middle;\n",
       "    }\n",
       "\n",
       "    .dataframe tbody tr th {\n",
       "        vertical-align: top;\n",
       "    }\n",
       "\n",
       "    .dataframe thead th {\n",
       "        text-align: right;\n",
       "    }\n",
       "</style>\n",
       "<table border=\"1\" class=\"dataframe\">\n",
       "  <thead>\n",
       "    <tr style=\"text-align: right;\">\n",
       "      <th></th>\n",
       "      <th>longitude</th>\n",
       "      <th>latitude</th>\n",
       "      <th>housing_median_age</th>\n",
       "      <th>total_rooms</th>\n",
       "      <th>total_bedrooms</th>\n",
       "      <th>population</th>\n",
       "      <th>households</th>\n",
       "      <th>median_income</th>\n",
       "      <th>median_house_value</th>\n",
       "      <th>rooms_per_person</th>\n",
       "    </tr>\n",
       "  </thead>\n",
       "  <tbody>\n",
       "    <tr>\n",
       "      <th>longitude</th>\n",
       "      <td>1.0</td>\n",
       "      <td>-0.9</td>\n",
       "      <td>-0.1</td>\n",
       "      <td>0.0</td>\n",
       "      <td>0.1</td>\n",
       "      <td>0.1</td>\n",
       "      <td>0.1</td>\n",
       "      <td>-0.0</td>\n",
       "      <td>-0.0</td>\n",
       "      <td>-0.1</td>\n",
       "    </tr>\n",
       "    <tr>\n",
       "      <th>latitude</th>\n",
       "      <td>-0.9</td>\n",
       "      <td>1.0</td>\n",
       "      <td>0.0</td>\n",
       "      <td>-0.0</td>\n",
       "      <td>-0.1</td>\n",
       "      <td>-0.1</td>\n",
       "      <td>-0.1</td>\n",
       "      <td>-0.1</td>\n",
       "      <td>-0.1</td>\n",
       "      <td>0.1</td>\n",
       "    </tr>\n",
       "    <tr>\n",
       "      <th>housing_median_age</th>\n",
       "      <td>-0.1</td>\n",
       "      <td>0.0</td>\n",
       "      <td>1.0</td>\n",
       "      <td>-0.4</td>\n",
       "      <td>-0.3</td>\n",
       "      <td>-0.3</td>\n",
       "      <td>-0.3</td>\n",
       "      <td>-0.1</td>\n",
       "      <td>0.1</td>\n",
       "      <td>-0.1</td>\n",
       "    </tr>\n",
       "    <tr>\n",
       "      <th>total_rooms</th>\n",
       "      <td>0.0</td>\n",
       "      <td>-0.0</td>\n",
       "      <td>-0.4</td>\n",
       "      <td>1.0</td>\n",
       "      <td>0.9</td>\n",
       "      <td>0.9</td>\n",
       "      <td>0.9</td>\n",
       "      <td>0.2</td>\n",
       "      <td>0.1</td>\n",
       "      <td>0.1</td>\n",
       "    </tr>\n",
       "    <tr>\n",
       "      <th>total_bedrooms</th>\n",
       "      <td>0.1</td>\n",
       "      <td>-0.1</td>\n",
       "      <td>-0.3</td>\n",
       "      <td>0.9</td>\n",
       "      <td>1.0</td>\n",
       "      <td>0.9</td>\n",
       "      <td>1.0</td>\n",
       "      <td>-0.0</td>\n",
       "      <td>0.0</td>\n",
       "      <td>0.0</td>\n",
       "    </tr>\n",
       "    <tr>\n",
       "      <th>population</th>\n",
       "      <td>0.1</td>\n",
       "      <td>-0.1</td>\n",
       "      <td>-0.3</td>\n",
       "      <td>0.9</td>\n",
       "      <td>0.9</td>\n",
       "      <td>1.0</td>\n",
       "      <td>0.9</td>\n",
       "      <td>-0.0</td>\n",
       "      <td>-0.0</td>\n",
       "      <td>-0.1</td>\n",
       "    </tr>\n",
       "    <tr>\n",
       "      <th>households</th>\n",
       "      <td>0.1</td>\n",
       "      <td>-0.1</td>\n",
       "      <td>-0.3</td>\n",
       "      <td>0.9</td>\n",
       "      <td>1.0</td>\n",
       "      <td>0.9</td>\n",
       "      <td>1.0</td>\n",
       "      <td>0.0</td>\n",
       "      <td>0.1</td>\n",
       "      <td>-0.0</td>\n",
       "    </tr>\n",
       "    <tr>\n",
       "      <th>median_income</th>\n",
       "      <td>-0.0</td>\n",
       "      <td>-0.1</td>\n",
       "      <td>-0.1</td>\n",
       "      <td>0.2</td>\n",
       "      <td>-0.0</td>\n",
       "      <td>-0.0</td>\n",
       "      <td>0.0</td>\n",
       "      <td>1.0</td>\n",
       "      <td>0.7</td>\n",
       "      <td>0.2</td>\n",
       "    </tr>\n",
       "    <tr>\n",
       "      <th>median_house_value</th>\n",
       "      <td>-0.0</td>\n",
       "      <td>-0.1</td>\n",
       "      <td>0.1</td>\n",
       "      <td>0.1</td>\n",
       "      <td>0.0</td>\n",
       "      <td>-0.0</td>\n",
       "      <td>0.1</td>\n",
       "      <td>0.7</td>\n",
       "      <td>1.0</td>\n",
       "      <td>0.2</td>\n",
       "    </tr>\n",
       "    <tr>\n",
       "      <th>rooms_per_person</th>\n",
       "      <td>-0.1</td>\n",
       "      <td>0.1</td>\n",
       "      <td>-0.1</td>\n",
       "      <td>0.1</td>\n",
       "      <td>0.0</td>\n",
       "      <td>-0.1</td>\n",
       "      <td>-0.0</td>\n",
       "      <td>0.2</td>\n",
       "      <td>0.2</td>\n",
       "      <td>1.0</td>\n",
       "    </tr>\n",
       "  </tbody>\n",
       "</table>\n",
       "</div>"
      ],
      "text/plain": [
       "                    longitude  latitude  housing_median_age  total_rooms  \\\n",
       "longitude                 1.0      -0.9                -0.1          0.0   \n",
       "latitude                 -0.9       1.0                 0.0         -0.0   \n",
       "housing_median_age       -0.1       0.0                 1.0         -0.4   \n",
       "total_rooms               0.0      -0.0                -0.4          1.0   \n",
       "total_bedrooms            0.1      -0.1                -0.3          0.9   \n",
       "population                0.1      -0.1                -0.3          0.9   \n",
       "households                0.1      -0.1                -0.3          0.9   \n",
       "median_income            -0.0      -0.1                -0.1          0.2   \n",
       "median_house_value       -0.0      -0.1                 0.1          0.1   \n",
       "rooms_per_person         -0.1       0.1                -0.1          0.1   \n",
       "\n",
       "                    total_bedrooms  population  households  median_income  \\\n",
       "longitude                      0.1         0.1         0.1           -0.0   \n",
       "latitude                      -0.1        -0.1        -0.1           -0.1   \n",
       "housing_median_age            -0.3        -0.3        -0.3           -0.1   \n",
       "total_rooms                    0.9         0.9         0.9            0.2   \n",
       "total_bedrooms                 1.0         0.9         1.0           -0.0   \n",
       "population                     0.9         1.0         0.9           -0.0   \n",
       "households                     1.0         0.9         1.0            0.0   \n",
       "median_income                 -0.0        -0.0         0.0            1.0   \n",
       "median_house_value             0.0        -0.0         0.1            0.7   \n",
       "rooms_per_person               0.0        -0.1        -0.0            0.2   \n",
       "\n",
       "                    median_house_value  rooms_per_person  \n",
       "longitude                         -0.0              -0.1  \n",
       "latitude                          -0.1               0.1  \n",
       "housing_median_age                 0.1              -0.1  \n",
       "total_rooms                        0.1               0.1  \n",
       "total_bedrooms                     0.0               0.0  \n",
       "population                        -0.0              -0.1  \n",
       "households                         0.1              -0.0  \n",
       "median_income                      0.7               0.2  \n",
       "median_house_value                 1.0               0.2  \n",
       "rooms_per_person                   0.2               1.0  "
      ]
     },
     "execution_count": 17,
     "metadata": {},
     "output_type": "execute_result"
    }
   ],
   "source": [
    "# Generate a correlation matrix.\n",
    "training_df.corr()"
   ]
  },
  {
   "cell_type": "markdown",
   "metadata": {
    "id": "hp0r3NAVPEdt"
   },
   "source": [
    "The correlation matrix shows nine potential features (including a synthetic\n",
    "feature) and one label (`median_house_value`).  A strong negative correlation or strong positive correlation with the label suggests a potentially good feature.  \n",
    "\n",
    "**Your Task:** Determine which of the nine potential features appears to be the best candidate for a feature?"
   ]
  },
  {
   "cell_type": "code",
   "execution_count": null,
   "metadata": {
    "cellView": "form",
    "id": "RomQTd1OPVd0"
   },
   "outputs": [],
   "source": [
    "#@title Double-click here for the solution to Task 5\n",
    "\n",
    "# The `median_income` correlates 0.7 with the label \n",
    "# (median_house_value), so median_income` might be a \n",
    "# good feature. The other seven potential features\n",
    "# all have a correlation relatively close to 0. \n",
    "\n",
    "# If time permits, try median_income as the feature\n",
    "# and see whether the model improves."
   ]
  },
  {
   "cell_type": "markdown",
   "metadata": {
    "id": "8RqvEbaVSlRt"
   },
   "source": [
    "Correlation matrices don't tell the entire story. In later exercises, you'll find additional ways to unlock predictive power from potential features.\n",
    "\n",
    "**Note:** Using `median_income` as a feature may raise some ethical and fairness\n",
    "issues. Towards the end of the course, we'll explore ethical and fairness issues."
   ]
  },
  {
   "cell_type": "code",
   "execution_count": 19,
   "metadata": {},
   "outputs": [
    {
     "name": "stdout",
     "output_type": "stream",
     "text": [
      "Epoch 1/24\n",
      "567/567 [==============================] - 0s 688us/step - loss: 28804.2812 - root_mean_squared_error: 169.7182\n",
      "Epoch 2/24\n",
      "567/567 [==============================] - 0s 661us/step - loss: 7367.7446 - root_mean_squared_error: 85.8356\n",
      "Epoch 3/24\n",
      "567/567 [==============================] - 0s 680us/step - loss: 7015.8120 - root_mean_squared_error: 83.7604\n",
      "Epoch 4/24\n",
      "567/567 [==============================] - 0s 691us/step - loss: 7016.8511 - root_mean_squared_error: 83.7666\n",
      "Epoch 5/24\n",
      "567/567 [==============================] - 0s 709us/step - loss: 7016.1133 - root_mean_squared_error: 83.7622\n",
      "Epoch 6/24\n",
      "567/567 [==============================] - 0s 699us/step - loss: 7015.9146 - root_mean_squared_error: 83.7611\n",
      "Epoch 7/24\n",
      "567/567 [==============================] - 0s 670us/step - loss: 7015.3076 - root_mean_squared_error: 83.7574\n",
      "Epoch 8/24\n",
      "567/567 [==============================] - 0s 679us/step - loss: 7015.1343 - root_mean_squared_error: 83.7564\n",
      "Epoch 9/24\n",
      "567/567 [==============================] - 0s 695us/step - loss: 7015.8755 - root_mean_squared_error: 83.7608\n",
      "Epoch 10/24\n",
      "567/567 [==============================] - 0s 681us/step - loss: 7012.8379 - root_mean_squared_error: 83.7427\n",
      "Epoch 11/24\n",
      "567/567 [==============================] - 0s 706us/step - loss: 7016.6357 - root_mean_squared_error: 83.7654\n",
      "Epoch 12/24\n",
      "567/567 [==============================] - 0s 695us/step - loss: 7012.7437 - root_mean_squared_error: 83.7421\n",
      "Epoch 13/24\n",
      "567/567 [==============================] - 0s 694us/step - loss: 7016.0649 - root_mean_squared_error: 83.7620\n",
      "Epoch 14/24\n",
      "567/567 [==============================] - 0s 694us/step - loss: 7016.7158 - root_mean_squared_error: 83.7658\n",
      "Epoch 15/24\n",
      "567/567 [==============================] - 0s 651us/step - loss: 7015.6309 - root_mean_squared_error: 83.7594\n",
      "Epoch 16/24\n",
      "567/567 [==============================] - 0s 638us/step - loss: 7014.7324 - root_mean_squared_error: 83.7540\n",
      "Epoch 17/24\n",
      "567/567 [==============================] - 0s 725us/step - loss: 7015.8955 - root_mean_squared_error: 83.7609\n",
      "Epoch 18/24\n",
      "567/567 [==============================] - 0s 728us/step - loss: 7016.8130 - root_mean_squared_error: 83.7664\n",
      "Epoch 19/24\n",
      "567/567 [==============================] - 0s 673us/step - loss: 7016.0757 - root_mean_squared_error: 83.7620\n",
      "Epoch 20/24\n",
      "567/567 [==============================] - 0s 672us/step - loss: 7014.6660 - root_mean_squared_error: 83.7536\n",
      "Epoch 21/24\n",
      "567/567 [==============================] - 0s 671us/step - loss: 7015.7598 - root_mean_squared_error: 83.7601\n",
      "Epoch 22/24\n",
      "567/567 [==============================] - 0s 670us/step - loss: 7014.4077 - root_mean_squared_error: 83.7521\n",
      "Epoch 23/24\n",
      "567/567 [==============================] - 0s 705us/step - loss: 7016.7505 - root_mean_squared_error: 83.7660\n",
      "Epoch 24/24\n",
      "567/567 [==============================] - 0s 710us/step - loss: 7016.1680 - root_mean_squared_error: 83.7626\n"
     ]
    },
    {
     "data": {
      "image/png": "[encoded data removed]",
      "text/plain": [
       "<Figure size 432x288 with 1 Axes>"
      ]
     },
     "metadata": {
      "needs_background": "light"
     },
     "output_type": "display_data"
    },
    {
     "name": "stdout",
     "output_type": "stream",
     "text": [
      "feature   label          predicted\n",
      "  value   value          value\n",
      "          in thousand$   in thousand$\n",
      "--------------------------------------\n",
      "    2     53             133\n",
      "    4     92             211\n",
      "    3     69             153\n",
      "    2     62             131\n",
      "    3     80             153\n",
      "    2    295             147\n",
      "   10    500             453\n",
      "    5    342             258\n",
      "    2    118             146\n",
      "    4    128             220\n",
      "    8    187             394\n",
      "    3     80             162\n",
      "    3    112             178\n",
      "    4     95             220\n",
      "    2     69             142\n"
     ]
    }
   ],
   "source": [
    "#@title Double-click to view a possible solution to Task 4.\n",
    "\n",
    "# Define a synthetic feature\n",
    "my_feature = \"median_income\"\n",
    "\n",
    "# Tune the hyperparameters.\n",
    "learning_rate = 0.06\n",
    "epochs = 24\n",
    "batch_size = 30\n",
    "\n",
    "# Don't change anything below this line.\n",
    "my_model = build_model(learning_rate)\n",
    "weight, bias, epochs, mae = train_model(my_model, training_df,\n",
    "                                        my_feature, my_label,\n",
    "                                        epochs, batch_size)\n",
    "\n",
    "plot_the_loss_curve(epochs, mae)\n",
    "predict_house_values(15, my_feature, my_label)\n"
   ]
  },
  {
   "cell_type": "code",
   "execution_count": 22,
   "metadata": {},
   "outputs": [
    {
     "name": "stdout",
     "output_type": "stream",
     "text": [
      "Epoch 1/30\n",
      "567/567 [==============================] - 0s 711us/step - loss: 47886.5898 - root_mean_squared_error: 218.8300\n",
      "Epoch 2/30\n",
      "567/567 [==============================] - 0s 691us/step - loss: 36981.6445 - root_mean_squared_error: 192.3061\n",
      "Epoch 3/30\n",
      "567/567 [==============================] - 0s 697us/step - loss: 27757.4004 - root_mean_squared_error: 166.6055\n",
      "Epoch 4/30\n",
      "567/567 [==============================] - 0s 664us/step - loss: 20239.1934 - root_mean_squared_error: 142.2645\n",
      "Epoch 5/30\n",
      "567/567 [==============================] - 0s 670us/step - loss: 14462.3174 - root_mean_squared_error: 120.2594\n",
      "Epoch 6/30\n",
      "567/567 [==============================] - 0s 670us/step - loss: 10394.9375 - root_mean_squared_error: 101.9556\n",
      "Epoch 7/30\n",
      "567/567 [==============================] - 0s 690us/step - loss: 8019.7168 - root_mean_squared_error: 89.5529\n",
      "Epoch 8/30\n",
      "567/567 [==============================] - 0s 687us/step - loss: 7136.0518 - root_mean_squared_error: 84.4752\n",
      "Epoch 9/30\n",
      "567/567 [==============================] - 0s 708us/step - loss: 7019.9126 - root_mean_squared_error: 83.7849\n",
      "Epoch 10/30\n",
      "567/567 [==============================] - 0s 679us/step - loss: 7014.0513 - root_mean_squared_error: 83.7499\n",
      "Epoch 11/30\n",
      "567/567 [==============================] - 0s 696us/step - loss: 7013.8159 - root_mean_squared_error: 83.7485\n",
      "Epoch 12/30\n",
      "567/567 [==============================] - ETA: 0s - loss: 6977.8691 - root_mean_squared_error: 83.533 - 0s 685us/step - loss: 7013.7944 - root_mean_squared_error: 83.7484\n",
      "Epoch 13/30\n",
      "567/567 [==============================] - 0s 671us/step - loss: 7013.6187 - root_mean_squared_error: 83.7474\n",
      "Epoch 14/30\n",
      "567/567 [==============================] - 0s 690us/step - loss: 7013.8765 - root_mean_squared_error: 83.7489\n",
      "Epoch 15/30\n",
      "567/567 [==============================] - 0s 658us/step - loss: 7013.4209 - root_mean_squared_error: 83.7462\n",
      "Epoch 16/30\n",
      "567/567 [==============================] - 0s 694us/step - loss: 7013.5161 - root_mean_squared_error: 83.7467\n",
      "Epoch 17/30\n",
      "567/567 [==============================] - 0s 682us/step - loss: 7013.7939 - root_mean_squared_error: 83.7484\n",
      "Epoch 18/30\n",
      "567/567 [==============================] - 0s 685us/step - loss: 7013.5430 - root_mean_squared_error: 83.7469\n",
      "Epoch 19/30\n",
      "567/567 [==============================] - 0s 690us/step - loss: 7013.6050 - root_mean_squared_error: 83.7473\n",
      "Epoch 20/30\n",
      "567/567 [==============================] - 0s 703us/step - loss: 7013.4609 - root_mean_squared_error: 83.7464\n",
      "Epoch 21/30\n",
      "567/567 [==============================] - 0s 716us/step - loss: 7013.5103 - root_mean_squared_error: 83.7467\n",
      "Epoch 22/30\n",
      "567/567 [==============================] - 0s 704us/step - loss: 7013.4585 - root_mean_squared_error: 83.7464\n",
      "Epoch 23/30\n",
      "567/567 [==============================] - 0s 696us/step - loss: 7013.6089 - root_mean_squared_error: 83.7473\n",
      "Epoch 24/30\n",
      "567/567 [==============================] - 0s 691us/step - loss: 7013.5703 - root_mean_squared_error: 83.7471\n",
      "Epoch 25/30\n",
      "567/567 [==============================] - 0s 686us/step - loss: 7013.5396 - root_mean_squared_error: 83.7469\n",
      "Epoch 26/30\n",
      "567/567 [==============================] - 0s 698us/step - loss: 7013.1255 - root_mean_squared_error: 83.7444\n",
      "Epoch 27/30\n",
      "567/567 [==============================] - 0s 696us/step - loss: 7013.5405 - root_mean_squared_error: 83.7469\n",
      "Epoch 28/30\n",
      "567/567 [==============================] - 0s 650us/step - loss: 7012.8115 - root_mean_squared_error: 83.7425\n",
      "Epoch 29/30\n",
      "567/567 [==============================] - 0s 698us/step - loss: 7013.6240 - root_mean_squared_error: 83.7474\n",
      "Epoch 30/30\n",
      "567/567 [==============================] - 0s 708us/step - loss: 7013.4600 - root_mean_squared_error: 83.7464\n",
      "\n",
      "The learned weight for your model is 42.2969\n",
      "The learned bias for your model is 42.6237\n",
      "\n"
     ]
    },
    {
     "name": "stderr",
     "output_type": "stream",
     "text": [
      "C:\\Users\\USUARIO\\anaconda3\\lib\\site-packages\\numpy\\core\\_asarray.py:171: VisibleDeprecationWarning: Creating an ndarray from ragged nested sequences (which is a list-or-tuple of lists-or-tuples-or ndarrays with different lengths or shapes) is deprecated. If you meant to do this, you must specify 'dtype=object' when creating the ndarray.\n",
      "  return array(a, dtype, copy=False, order=order, subok=True)\n"
     ]
    },
    {
     "data": {
      "image/png": "[encoded data removed]",
      "text/plain": [
       "<Figure size 432x288 with 1 Axes>"
      ]
     },
     "metadata": {
      "needs_background": "light"
     },
     "output_type": "display_data"
    },
    {
     "data": {
      "image/png": "[encoded data removed]",
      "text/plain": [
       "<Figure size 432x288 with 1 Axes>"
      ]
     },
     "metadata": {
      "needs_background": "light"
     },
     "output_type": "display_data"
    }
   ],
   "source": [
    "# The following variables are the hyperparameters.\n",
    "learning_rate = 0.01\n",
    "epochs = 30\n",
    "batch_size = 30\n",
    "\n",
    "# Specify the feature and the label.\n",
    "my_feature = \"median_income\"  # the total number of rooms on a specific city block.\n",
    "my_label=\"median_house_value\" # the median value of a house on a specific city block.\n",
    "# That is, you're going to create a model that predicts house value based \n",
    "# solely on total_rooms.  \n",
    "\n",
    "# Discard any pre-existing version of the model.\n",
    "my_model = None\n",
    "\n",
    "# Invoke the functions.\n",
    "my_model = build_model(learning_rate)\n",
    "weight, bias, epochs, rmse = train_model(my_model, training_df, \n",
    "                                         my_feature, my_label,\n",
    "                                         epochs, batch_size)\n",
    "\n",
    "print(\"\\nThe learned weight for your model is %.4f\" % weight)\n",
    "print(\"The learned bias for your model is %.4f\\n\" % bias )\n",
    "\n",
    "plot_the_model(weight, bias, my_feature, my_label)\n",
    "plot_the_loss_curve(epochs, rmse)"
   ]
  }
 ],
 "metadata": {
  "colab": {
   "collapsed_sections": [],
   "name": "Linear Regression with a Real Dataset.ipynb",
   "private_outputs": true,
   "provenance": []
  },
  "kernelspec": {
   "display_name": "Python 3",
   "language": "python",
   "name": "python3"
  },
  "language_info": {
   "codemirror_mode": {
    "name": "ipython",
    "version": 3
   },
   "file_extension": ".py",
   "mimetype": "text/x-python",
   "name": "python",
   "nbconvert_exporter": "python",
   "pygments_lexer": "ipython3",
   "version": "3.8.5"
  }
 },
 "nbformat": 4,
 "nbformat_minor": 1
}
