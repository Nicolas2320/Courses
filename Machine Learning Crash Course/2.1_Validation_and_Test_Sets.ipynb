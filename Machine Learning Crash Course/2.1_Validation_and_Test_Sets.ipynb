{
 "cells": [
  {
   "cell_type": "code",
   "execution_count": 1,
   "metadata": {
    "cellView": "form",
    "id": "hMqWDc_m6rUC"
   },
   "outputs": [],
   "source": [
    "#@title Copyright 2020 Google LLC. Double-click here for license information.\n",
    "# Licensed under the Apache License, Version 2.0 (the \"License\");\n",
    "# you may not use this file except in compliance with the License.\n",
    "# You may obtain a copy of the License at\n",
    "#\n",
    "# https://www.apache.org/licenses/LICENSE-2.0\n",
    "#\n",
    "# Unless required by applicable law or agreed to in writing, software\n",
    "# distributed under the License is distributed on an \"AS IS\" BASIS,\n",
    "# WITHOUT WARRANTIES OR CONDITIONS OF ANY KIND, either express or implied.\n",
    "# See the License for the specific language governing permissions and\n",
    "# limitations under the License."
   ]
  },
  {
   "cell_type": "markdown",
   "metadata": {
    "id": "4f3CKqFUqL2-"
   },
   "source": [
    "# Validation Sets and Test Sets\n",
    "\n",
    "The previous Colab exercises evaluated the trained model against the training set, which does not provide a strong signal about the quality of your model. In this Colab, you'll experiment with validation sets and test sets.\n",
    "\n",
    "\n",
    "\n",
    "\n"
   ]
  },
  {
   "cell_type": "markdown",
   "metadata": {
    "id": "3spZH_kNkWWX"
   },
   "source": [
    "## Learning objectives\n",
    "\n",
    "After doing this Colab, you'll know how to do the following:\n",
    "\n",
    "  * Split a [training set](https://developers.google.com/machine-learning/glossary/#training_set) into a smaller training set and a [validation set](https://developers.google.com/machine-learning/glossary/#validation_set).\n",
    "  * Analyze deltas between training set and validation set results.\n",
    "  * Test the trained model with a [test set](https://developers.google.com/machine-learning/glossary/#test_set) to determine whether your trained model is [overfitting](https://developers.google.com/machine-learning/glossary/#overfitting).\n",
    "  * Detect and fix a common training problem."
   ]
  },
  {
   "cell_type": "markdown",
   "metadata": {
    "id": "gV82DJO3kWpk"
   },
   "source": [
    "## The dataset\n",
    "\n",
    "As in the previous exercise, this exercise uses the [California Housing dataset](https://developers.google.com/machine-learning/crash-course/california-housing-data-description) to predict the `median_house_value` at the city block level.  Like many \"famous\" datasets, the California Housing Dataset actually consists of two separate datasets, each living in separate .csv files:\n",
    "\n",
    "* The training set is in `california_housing_train.csv`.\n",
    "* The test set is in `california_housing_test.csv`.\n",
    "\n",
    "You'll create the validation set by dividing the downloaded training set into two parts:\n",
    "\n",
    "* a smaller training set  \n",
    "* a validation set"
   ]
  },
  {
   "cell_type": "markdown",
   "metadata": {
    "id": "S8gm6BpqRRuh"
   },
   "source": [
    "## Import relevant modules\n",
    "\n",
    "As before, this first code cell imports the necessary modules and sets a few display options."
   ]
  },
  {
   "cell_type": "code",
   "execution_count": 2,
   "metadata": {
    "cellView": "form",
    "id": "9D8GgUovHbG0"
   },
   "outputs": [],
   "source": [
    "#@title Import modules\n",
    "import numpy as np\n",
    "import pandas as pd\n",
    "import tensorflow as tf\n",
    "from matplotlib import pyplot as plt\n",
    "\n",
    "pd.options.display.max_rows = 10\n",
    "pd.options.display.float_format = \"{:.1f}\".format"
   ]
  },
  {
   "cell_type": "markdown",
   "metadata": {
    "id": "xjvrrClQeAJu"
   },
   "source": [
    "## Load the datasets from the internet\n",
    "\n",
    "The following code cell loads the separate .csv files and creates the following two pandas DataFrames:\n",
    "\n",
    "* `train_df`, which contains the training set.\n",
    "* `test_df`, which contains the test set.\n",
    "\n"
   ]
  },
  {
   "cell_type": "code",
   "execution_count": 3,
   "metadata": {
    "id": "zUnTc_wfd_o3"
   },
   "outputs": [],
   "source": [
    "train_df = pd.read_csv(\"https://download.mlcc.google.com/mledu-datasets/california_housing_train.csv\")\n",
    "test_df = pd.read_csv(\"https://download.mlcc.google.com/mledu-datasets/california_housing_test.csv\")"
   ]
  },
  {
   "cell_type": "markdown",
   "metadata": {
    "id": "P_KBdj2M_yjM"
   },
   "source": [
    "## Scale the label values\n",
    "\n",
    "The following code cell scales the `median_house_value`. \n",
    "See the previous Colab exercise for details."
   ]
  },
  {
   "cell_type": "code",
   "execution_count": 4,
   "metadata": {
    "id": "3hc7QQhaAFXD"
   },
   "outputs": [],
   "source": [
    "scale_factor = 1000.0\n",
    "\n",
    "# Scale the training set's label.\n",
    "train_df[\"median_house_value\"] /= scale_factor \n",
    "\n",
    "# Scale the test set's label\n",
    "test_df[\"median_house_value\"] /= scale_factor"
   ]
  },
  {
   "cell_type": "markdown",
   "metadata": {
    "id": "FhessIIV8VPc"
   },
   "source": [
    "## Load the functions that build and train a model\n",
    "\n",
    "The following code cell defines two functions:\n",
    "\n",
    "  * `build_model`, which defines the model's topography.\n",
    "  * `train_model`, which will ultimately train the model, outputting not only the loss value for the training set but also the loss value for the validation set. \n",
    "\n",
    "Since you don't need to understand model building code right now, we've hidden this code cell. As always, you must run hidden code cells."
   ]
  },
  {
   "cell_type": "code",
   "execution_count": 5,
   "metadata": {
    "cellView": "form",
    "id": "bvonhK857msj"
   },
   "outputs": [
    {
     "name": "stdout",
     "output_type": "stream",
     "text": [
      "Defined the build_model and train_model functions.\n"
     ]
    }
   ],
   "source": [
    "#@title Define the functions that build and train a model\n",
    "def build_model(my_learning_rate):\n",
    "    \"\"\"Create and compile a simple linear regression model.\"\"\"\n",
    "    # Most simple tf.keras models are sequential.\n",
    "    model = tf.keras.models.Sequential()\n",
    "\n",
    "    # Add one linear layer to the model to yield a simple linear regressor.\n",
    "    model.add(tf.keras.layers.Dense(units=1, input_shape=(1,)))\n",
    "\n",
    "    # Compile the model topography into code that TensorFlow can efficiently\n",
    "    # execute. Configure training to minimize the model's mean squared error. \n",
    "    model.compile(optimizer=tf.keras.optimizers.RMSprop(lr=my_learning_rate),\n",
    "                loss=\"mean_squared_error\",\n",
    "                metrics=[tf.keras.metrics.RootMeanSquaredError()])\n",
    "\n",
    "    return model               \n",
    "  \n",
    "\n",
    "def train_model(model, df, feature, label, my_epochs, \n",
    "                my_batch_size=None, my_validation_split=0.1):\n",
    "    \"\"\"Feed a dataset into the model in order to train it.\"\"\"\n",
    "\n",
    "    history = model.fit(x=df[feature],\n",
    "                      y=df[label],\n",
    "                      batch_size=my_batch_size,\n",
    "                      epochs=my_epochs,\n",
    "                      validation_split=my_validation_split)\n",
    "\n",
    "    # Gather the model's trained weight and bias.\n",
    "    trained_weight = model.get_weights()[0]\n",
    "    trained_bias = model.get_weights()[1]\n",
    "\n",
    "    # The list of epochs is stored separately from the \n",
    "    # rest of history.\n",
    "    epochs = history.epoch\n",
    "  \n",
    "    # Isolate the root mean squared error for each epoch.\n",
    "    hist = pd.DataFrame(history.history)\n",
    "    rmse = hist[\"root_mean_squared_error\"]\n",
    "\n",
    "    return epochs, rmse, history.history   \n",
    "\n",
    "print(\"Defined the build_model and train_model functions.\")"
   ]
  },
  {
   "cell_type": "markdown",
   "metadata": {
    "id": "8gRu4Ri0D8tH"
   },
   "source": [
    "## Define plotting functions\n",
    "\n",
    "The `plot_the_loss_curve` function plots loss vs. epochs for both the training set and the validation set."
   ]
  },
  {
   "cell_type": "code",
   "execution_count": 6,
   "metadata": {
    "cellView": "form",
    "id": "QA7hsqPZDvVM"
   },
   "outputs": [
    {
     "name": "stdout",
     "output_type": "stream",
     "text": [
      "Defined the plot_the_loss_curve function.\n"
     ]
    }
   ],
   "source": [
    "#@title Define the plotting function\n",
    "\n",
    "def plot_the_loss_curve(epochs, mae_training, mae_validation):\n",
    "    \"\"\"Plot a curve of loss vs. epoch.\"\"\"\n",
    "\n",
    "    plt.figure()\n",
    "    plt.xlabel(\"Epoch\")\n",
    "    plt.ylabel(\"Root Mean Squared Error\")\n",
    "\n",
    "    plt.plot(epochs[1:], mae_training[1:], label=\"Training Loss\")\n",
    "    plt.plot(epochs[1:], mae_validation[1:], label=\"Validation Loss\")\n",
    "    plt.legend()\n",
    "  \n",
    "    # We're not going to plot the first epoch, since the loss on the first epoch\n",
    "    # is often substantially greater than the loss for other epochs.\n",
    "    merged_mae_lists = mae_training[1:] + mae_validation[1:]\n",
    "    highest_loss = max(merged_mae_lists)\n",
    "    lowest_loss = min(merged_mae_lists)\n",
    "    delta = highest_loss - lowest_loss\n",
    "    print(delta)\n",
    "\n",
    "    top_of_y_axis = highest_loss + (delta * 0.05)\n",
    "    bottom_of_y_axis = lowest_loss - (delta * 0.05)\n",
    "   \n",
    "    plt.ylim([bottom_of_y_axis, top_of_y_axis])\n",
    "    plt.show()  \n",
    "\n",
    "print(\"Defined the plot_the_loss_curve function.\")"
   ]
  },
  {
   "cell_type": "markdown",
   "metadata": {
    "id": "jipBqEQXlsN8"
   },
   "source": [
    "## Task 1: Experiment with the validation split\n",
    "\n",
    "In the following code cell, you'll see a variable named `validation_split`, which we've initialized at 0.2.  The `validation_split` variable specifies the proportion of the original training set that will serve as the validation set. The original training set contains 17,000 examples. Therefore, a `validation_split` of 0.2 means that:\n",
    "\n",
    "* 17,000 * 0.2 ~= 3,400 examples will become the validation set.\n",
    "* 17,000 * 0.8 ~= 13,600 examples will become the new training set.\n",
    "\n",
    "The following code builds a model, trains it on the training set, and evaluates the built model on both:\n",
    "\n",
    "* The training set.\n",
    "* And the validation set.\n",
    "\n",
    "If the data in the training set is similar to the data in the validation set, then the two loss curves and the final loss values should be almost identical. However, the loss curves and final loss values are **not** almost identical. Hmm, that's odd.  \n",
    "\n",
    "Experiment with two or three different values of `validation_split`.  Do different values of `validation_split` fix the problem? \n"
   ]
  },
  {
   "cell_type": "code",
   "execution_count": 7,
   "metadata": {
    "id": "knP23Taoa00a"
   },
   "outputs": [
    {
     "name": "stdout",
     "output_type": "stream",
     "text": [
      "Epoch 1/30\n",
      "136/136 [==============================] - 0s 2ms/step - loss: 41731.8945 - root_mean_squared_error: 204.2839 - val_loss: 50607.6875 - val_root_mean_squared_error: 224.9615\n",
      "Epoch 2/30\n",
      "136/136 [==============================] - 0s 1ms/step - loss: 24326.2227 - root_mean_squared_error: 155.9687 - val_loss: 29873.9805 - val_root_mean_squared_error: 172.8409\n",
      "Epoch 3/30\n",
      "136/136 [==============================] - 0s 1ms/step - loss: 12925.9648 - root_mean_squared_error: 113.6924 - val_loss: 16233.5303 - val_root_mean_squared_error: 127.4109\n",
      "Epoch 4/30\n",
      "136/136 [==============================] - 0s 1ms/step - loss: 7479.0469 - root_mean_squared_error: 86.4815 - val_loss: 9924.5625 - val_root_mean_squared_error: 99.6221\n",
      "Epoch 5/30\n",
      "136/136 [==============================] - 0s 1ms/step - loss: 6517.7734 - root_mean_squared_error: 80.7327 - val_loss: 9158.7061 - val_root_mean_squared_error: 95.7011\n",
      "Epoch 6/30\n",
      "136/136 [==============================] - 0s 1ms/step - loss: 6514.1016 - root_mean_squared_error: 80.7100 - val_loss: 9287.2949 - val_root_mean_squared_error: 96.3706\n",
      "Epoch 7/30\n",
      "136/136 [==============================] - 0s 965us/step - loss: 6514.2422 - root_mean_squared_error: 80.7109 - val_loss: 9297.2598 - val_root_mean_squared_error: 96.4223\n",
      "Epoch 8/30\n",
      "136/136 [==============================] - 0s 1ms/step - loss: 6514.1230 - root_mean_squared_error: 80.7101 - val_loss: 9241.1426 - val_root_mean_squared_error: 96.1309\n",
      "Epoch 9/30\n",
      "136/136 [==============================] - 0s 995us/step - loss: 6513.7554 - root_mean_squared_error: 80.7078 - val_loss: 9177.6660 - val_root_mean_squared_error: 95.8001\n",
      "Epoch 10/30\n",
      "136/136 [==============================] - 0s 975us/step - loss: 6514.5229 - root_mean_squared_error: 80.7126 - val_loss: 9259.5400 - val_root_mean_squared_error: 96.2265\n",
      "Epoch 11/30\n",
      "136/136 [==============================] - 0s 1ms/step - loss: 6514.2822 - root_mean_squared_error: 80.7111 - val_loss: 9246.3662 - val_root_mean_squared_error: 96.1580\n",
      "Epoch 12/30\n",
      "136/136 [==============================] - 0s 953us/step - loss: 6513.4229 - root_mean_squared_error: 80.7058 - val_loss: 9389.9873 - val_root_mean_squared_error: 96.9019\n",
      "Epoch 13/30\n",
      "136/136 [==============================] - 0s 957us/step - loss: 6513.1240 - root_mean_squared_error: 80.7039 - val_loss: 9181.7998 - val_root_mean_squared_error: 95.8217\n",
      "Epoch 14/30\n",
      "136/136 [==============================] - 0s 1ms/step - loss: 6513.8306 - root_mean_squared_error: 80.7083 - val_loss: 9340.8701 - val_root_mean_squared_error: 96.6482\n",
      "Epoch 15/30\n",
      "136/136 [==============================] - 0s 1ms/step - loss: 6514.1147 - root_mean_squared_error: 80.7101 - val_loss: 9317.0225 - val_root_mean_squared_error: 96.5247\n",
      "Epoch 16/30\n",
      "136/136 [==============================] - 0s 1ms/step - loss: 6513.2729 - root_mean_squared_error: 80.7048 - val_loss: 9323.2598 - val_root_mean_squared_error: 96.5570\n",
      "Epoch 17/30\n",
      "136/136 [==============================] - 0s 934us/step - loss: 6511.6851 - root_mean_squared_error: 80.6950 - val_loss: 9148.5596 - val_root_mean_squared_error: 95.6481\n",
      "Epoch 18/30\n",
      "136/136 [==============================] - 0s 1ms/step - loss: 6514.3638 - root_mean_squared_error: 80.7116 - val_loss: 9263.7783 - val_root_mean_squared_error: 96.2485\n",
      "Epoch 19/30\n",
      "136/136 [==============================] - 0s 953us/step - loss: 6513.3389 - root_mean_squared_error: 80.7053 - val_loss: 9361.4014 - val_root_mean_squared_error: 96.7543\n",
      "Epoch 20/30\n",
      "136/136 [==============================] - 0s 1ms/step - loss: 6513.4878 - root_mean_squared_error: 80.7062 - val_loss: 9262.4502 - val_root_mean_squared_error: 96.2416\n",
      "Epoch 21/30\n",
      "136/136 [==============================] - 0s 1ms/step - loss: 6514.4185 - root_mean_squared_error: 80.7119 - val_loss: 9263.3525 - val_root_mean_squared_error: 96.2463\n",
      "Epoch 22/30\n",
      "136/136 [==============================] - 0s 1ms/step - loss: 6514.0811 - root_mean_squared_error: 80.7099 - val_loss: 9211.9141 - val_root_mean_squared_error: 95.9787\n",
      "Epoch 23/30\n",
      "136/136 [==============================] - 0s 1ms/step - loss: 6514.2524 - root_mean_squared_error: 80.7109 - val_loss: 9305.4258 - val_root_mean_squared_error: 96.4646\n",
      "Epoch 24/30\n",
      "136/136 [==============================] - 0s 1ms/step - loss: 6513.8428 - root_mean_squared_error: 80.7084 - val_loss: 9276.3701 - val_root_mean_squared_error: 96.3139\n",
      "Epoch 25/30\n",
      "136/136 [==============================] - 0s 1ms/step - loss: 6514.3511 - root_mean_squared_error: 80.7115 - val_loss: 9261.6025 - val_root_mean_squared_error: 96.2372\n",
      "Epoch 26/30\n",
      "136/136 [==============================] - 0s 1ms/step - loss: 6514.0698 - root_mean_squared_error: 80.7098 - val_loss: 9258.5068 - val_root_mean_squared_error: 96.2211\n",
      "Epoch 27/30\n",
      "136/136 [==============================] - 0s 1ms/step - loss: 6512.6084 - root_mean_squared_error: 80.7007 - val_loss: 9414.3721 - val_root_mean_squared_error: 97.0277\n",
      "Epoch 28/30\n",
      "136/136 [==============================] - 0s 963us/step - loss: 6514.2935 - root_mean_squared_error: 80.7112 - val_loss: 9265.9219 - val_root_mean_squared_error: 96.2597\n",
      "Epoch 29/30\n",
      "136/136 [==============================] - 0s 1ms/step - loss: 6513.3394 - root_mean_squared_error: 80.7053 - val_loss: 9232.0713 - val_root_mean_squared_error: 96.0837\n",
      "Epoch 30/30\n",
      "136/136 [==============================] - 0s 998us/step - loss: 6514.6318 - root_mean_squared_error: 80.7133 - val_loss: 9316.9912 - val_root_mean_squared_error: 96.5246\n",
      "92.1458969116211\n"
     ]
    },
    {
     "data": {
      "image/png": "[encoded data removed]",
      "text/plain": [
       "<Figure size 432x288 with 1 Axes>"
      ]
     },
     "metadata": {
      "needs_background": "light"
     },
     "output_type": "display_data"
    }
   ],
   "source": [
    "# The following variables are the hyperparameters.\n",
    "learning_rate = 0.08\n",
    "epochs = 30\n",
    "batch_size = 100\n",
    "\n",
    "# Split the original training set into a reduced training set and a\n",
    "# validation set. \n",
    "validation_split = 0.2\n",
    "\n",
    "# Identify the feature and the label.\n",
    "my_feature = \"median_income\"    # the median income on a specific city block.\n",
    "my_label = \"median_house_value\" # the median house value on a specific city block.\n",
    "# That is, you're going to create a model that predicts house value based \n",
    "# solely on the neighborhood's median income.  \n",
    "\n",
    "# Discard any pre-existing version of the model.\n",
    "my_model = None\n",
    "\n",
    "# Invoke the functions to build and train the model.\n",
    "my_model = build_model(learning_rate)\n",
    "epochs, rmse, history = train_model(my_model, train_df, my_feature, \n",
    "                                    my_label, epochs, batch_size, \n",
    "                                    validation_split)\n",
    "\n",
    "plot_the_loss_curve(epochs, history[\"root_mean_squared_error\"], \n",
    "                    history[\"val_root_mean_squared_error\"])"
   ]
  },
  {
   "cell_type": "markdown",
   "metadata": {
    "id": "TKa11JK4Pm3f"
   },
   "source": [
    "## Task 2: Determine **why** the loss curves differ\n",
    "\n",
    "No matter how you split the training set and the validation set, the loss curves differ significantly. Evidently, the data in the training set isn't similar enough to the data in the validation set. Counterintuitive? Yes, but this problem is actually pretty common in machine learning. \n",
    "\n",
    "Your task is to determine **why** the loss curves aren't highly similar. As with most issues in machine learning, the problem is rooted in the data itself. To solve this mystery of why the training set and validation set aren't almost identical, write a line or two of [pandas code](https://colab.research.google.com/github/google/eng-edu/blob/main/ml/cc/exercises/pandas_dataframe_ultraquick_tutorial.ipynb?utm_source=validation-colab&utm_medium=colab&utm_campaign=colab-external&utm_content=pandas_tf2-colab&hl=en) in the following code cell.  Here are a couple of hints:\n",
    "\n",
    "  * The previous code cell split the original training set into:\n",
    "    * a reduced training set (the original training set - the validation set)\n",
    "    * the validation set \n",
    "  * By default, the pandas [`head`](https://pandas.pydata.org/pandas-docs/stable/reference/api/pandas.DataFrame.head.html) method outputs the *first* 5 rows of the DataFrame. To see more of the training set, specify the `n` argument to `head` and assign a large positive integer to `n`."
   ]
  },
  {
   "cell_type": "code",
   "execution_count": 8,
   "metadata": {
    "id": "VJQcAZkwJt_p"
   },
   "outputs": [],
   "source": [
    "# Write some code in this code cell."
   ]
  },
  {
   "cell_type": "code",
   "execution_count": 9,
   "metadata": {
    "cellView": "form",
    "id": "EnNvkFwwK8WY"
   },
   "outputs": [
    {
     "data": {
      "text/html": [
       "<div>\n",
       "<style scoped>\n",
       "    .dataframe tbody tr th:only-of-type {\n",
       "        vertical-align: middle;\n",
       "    }\n",
       "\n",
       "    .dataframe tbody tr th {\n",
       "        vertical-align: top;\n",
       "    }\n",
       "\n",
       "    .dataframe thead th {\n",
       "        text-align: right;\n",
       "    }\n",
       "</style>\n",
       "<table border=\"1\" class=\"dataframe\">\n",
       "  <thead>\n",
       "    <tr style=\"text-align: right;\">\n",
       "      <th></th>\n",
       "      <th>longitude</th>\n",
       "      <th>latitude</th>\n",
       "      <th>housing_median_age</th>\n",
       "      <th>total_rooms</th>\n",
       "      <th>total_bedrooms</th>\n",
       "      <th>population</th>\n",
       "      <th>households</th>\n",
       "      <th>median_income</th>\n",
       "      <th>median_house_value</th>\n",
       "    </tr>\n",
       "  </thead>\n",
       "  <tbody>\n",
       "    <tr>\n",
       "      <th>0</th>\n",
       "      <td>-114.3</td>\n",
       "      <td>34.2</td>\n",
       "      <td>15.0</td>\n",
       "      <td>5612.0</td>\n",
       "      <td>1283.0</td>\n",
       "      <td>1015.0</td>\n",
       "      <td>472.0</td>\n",
       "      <td>1.5</td>\n",
       "      <td>66.9</td>\n",
       "    </tr>\n",
       "    <tr>\n",
       "      <th>1</th>\n",
       "      <td>-114.5</td>\n",
       "      <td>34.4</td>\n",
       "      <td>19.0</td>\n",
       "      <td>7650.0</td>\n",
       "      <td>1901.0</td>\n",
       "      <td>1129.0</td>\n",
       "      <td>463.0</td>\n",
       "      <td>1.8</td>\n",
       "      <td>80.1</td>\n",
       "    </tr>\n",
       "    <tr>\n",
       "      <th>2</th>\n",
       "      <td>-114.6</td>\n",
       "      <td>33.7</td>\n",
       "      <td>17.0</td>\n",
       "      <td>720.0</td>\n",
       "      <td>174.0</td>\n",
       "      <td>333.0</td>\n",
       "      <td>117.0</td>\n",
       "      <td>1.7</td>\n",
       "      <td>85.7</td>\n",
       "    </tr>\n",
       "    <tr>\n",
       "      <th>3</th>\n",
       "      <td>-114.6</td>\n",
       "      <td>33.6</td>\n",
       "      <td>14.0</td>\n",
       "      <td>1501.0</td>\n",
       "      <td>337.0</td>\n",
       "      <td>515.0</td>\n",
       "      <td>226.0</td>\n",
       "      <td>3.2</td>\n",
       "      <td>73.4</td>\n",
       "    </tr>\n",
       "    <tr>\n",
       "      <th>4</th>\n",
       "      <td>-114.6</td>\n",
       "      <td>33.6</td>\n",
       "      <td>20.0</td>\n",
       "      <td>1454.0</td>\n",
       "      <td>326.0</td>\n",
       "      <td>624.0</td>\n",
       "      <td>262.0</td>\n",
       "      <td>1.9</td>\n",
       "      <td>65.5</td>\n",
       "    </tr>\n",
       "    <tr>\n",
       "      <th>...</th>\n",
       "      <td>...</td>\n",
       "      <td>...</td>\n",
       "      <td>...</td>\n",
       "      <td>...</td>\n",
       "      <td>...</td>\n",
       "      <td>...</td>\n",
       "      <td>...</td>\n",
       "      <td>...</td>\n",
       "      <td>...</td>\n",
       "    </tr>\n",
       "    <tr>\n",
       "      <th>995</th>\n",
       "      <td>-117.1</td>\n",
       "      <td>32.5</td>\n",
       "      <td>8.0</td>\n",
       "      <td>6533.0</td>\n",
       "      <td>1217.0</td>\n",
       "      <td>4797.0</td>\n",
       "      <td>1177.0</td>\n",
       "      <td>4.0</td>\n",
       "      <td>144.4</td>\n",
       "    </tr>\n",
       "    <tr>\n",
       "      <th>996</th>\n",
       "      <td>-117.1</td>\n",
       "      <td>34.6</td>\n",
       "      <td>6.0</td>\n",
       "      <td>5110.0</td>\n",
       "      <td>1044.0</td>\n",
       "      <td>1938.0</td>\n",
       "      <td>724.0</td>\n",
       "      <td>3.2</td>\n",
       "      <td>112.8</td>\n",
       "    </tr>\n",
       "    <tr>\n",
       "      <th>997</th>\n",
       "      <td>-117.1</td>\n",
       "      <td>34.2</td>\n",
       "      <td>22.0</td>\n",
       "      <td>4397.0</td>\n",
       "      <td>931.0</td>\n",
       "      <td>1145.0</td>\n",
       "      <td>445.0</td>\n",
       "      <td>4.5</td>\n",
       "      <td>108.4</td>\n",
       "    </tr>\n",
       "    <tr>\n",
       "      <th>998</th>\n",
       "      <td>-117.1</td>\n",
       "      <td>34.0</td>\n",
       "      <td>24.0</td>\n",
       "      <td>4144.0</td>\n",
       "      <td>826.0</td>\n",
       "      <td>2127.0</td>\n",
       "      <td>772.0</td>\n",
       "      <td>2.5</td>\n",
       "      <td>96.0</td>\n",
       "    </tr>\n",
       "    <tr>\n",
       "      <th>999</th>\n",
       "      <td>-117.1</td>\n",
       "      <td>33.6</td>\n",
       "      <td>6.0</td>\n",
       "      <td>1868.0</td>\n",
       "      <td>289.0</td>\n",
       "      <td>750.0</td>\n",
       "      <td>247.0</td>\n",
       "      <td>4.4</td>\n",
       "      <td>307.6</td>\n",
       "    </tr>\n",
       "  </tbody>\n",
       "</table>\n",
       "<p>1000 rows × 9 columns</p>\n",
       "</div>"
      ],
      "text/plain": [
       "     longitude  latitude  housing_median_age  total_rooms  total_bedrooms  \\\n",
       "0       -114.3      34.2                15.0       5612.0          1283.0   \n",
       "1       -114.5      34.4                19.0       7650.0          1901.0   \n",
       "2       -114.6      33.7                17.0        720.0           174.0   \n",
       "3       -114.6      33.6                14.0       1501.0           337.0   \n",
       "4       -114.6      33.6                20.0       1454.0           326.0   \n",
       "..         ...       ...                 ...          ...             ...   \n",
       "995     -117.1      32.5                 8.0       6533.0          1217.0   \n",
       "996     -117.1      34.6                 6.0       5110.0          1044.0   \n",
       "997     -117.1      34.2                22.0       4397.0           931.0   \n",
       "998     -117.1      34.0                24.0       4144.0           826.0   \n",
       "999     -117.1      33.6                 6.0       1868.0           289.0   \n",
       "\n",
       "     population  households  median_income  median_house_value  \n",
       "0        1015.0       472.0            1.5                66.9  \n",
       "1        1129.0       463.0            1.8                80.1  \n",
       "2         333.0       117.0            1.7                85.7  \n",
       "3         515.0       226.0            3.2                73.4  \n",
       "4         624.0       262.0            1.9                65.5  \n",
       "..          ...         ...            ...                 ...  \n",
       "995      4797.0      1177.0            4.0               144.4  \n",
       "996      1938.0       724.0            3.2               112.8  \n",
       "997      1145.0       445.0            4.5               108.4  \n",
       "998      2127.0       772.0            2.5                96.0  \n",
       "999       750.0       247.0            4.4               307.6  \n",
       "\n",
       "[1000 rows x 9 columns]"
      ]
     },
     "execution_count": 9,
     "metadata": {},
     "output_type": "execute_result"
    }
   ],
   "source": [
    "#@title Double-click for a possible solution to Task 2.\n",
    "\n",
    "# Examine examples 0 through 4 and examples 25 through 29\n",
    "# of the training set\n",
    "train_df.head(n=1000)\n",
    "\n",
    "# The original training set is sorted by longitude. \n",
    "# Apparently, longitude influences the relationship of\n",
    "# total_rooms to median_house_value."
   ]
  },
  {
   "cell_type": "markdown",
   "metadata": {
    "id": "rw4xI1ZEckI8"
   },
   "source": [
    "## Task 3. Fix the problem\n",
    "\n",
    "To fix the problem, shuffle the examples in the training set before splitting the examples into a training set and validation set. To do so, take the following steps:\n",
    "\n",
    "1. Shuffle the data in the training set by adding the following line anywhere before you call `train_model` (in the code cell associated with Task 1):\n",
    "\n",
    "```\n",
    "  shuffled_train_df = train_df.reindex(np.random.permutation(train_df.index))\n",
    "```                                    \n",
    "\n",
    "2. Pass `shuffled_train_df` (instead of `train_df`) as the second argument to `train_model` (in the code call associated with Task 1) so that the call becomes as follows:\n",
    "\n",
    "```\n",
    "  epochs, rmse, history = train_model(my_model, shuffled_train_df, my_feature, \n",
    "                                      my_label, epochs, batch_size, \n",
    "                                      validation_split)\n",
    "```"
   ]
  },
  {
   "cell_type": "code",
   "execution_count": 10,
   "metadata": {
    "cellView": "form",
    "id": "ncODhpv0h-LG"
   },
   "outputs": [
    {
     "name": "stdout",
     "output_type": "stream",
     "text": [
      "Epoch 1/70\n",
      "136/136 [==============================] - 0s 2ms/step - loss: 45275.0977 - root_mean_squared_error: 212.7795 - val_loss: 34465.4648 - val_root_mean_squared_error: 185.6488\n",
      "Epoch 2/70\n",
      "136/136 [==============================] - ETA: 0s - loss: 30572.8086 - root_mean_squared_error: 174.850 - 0s 1ms/step - loss: 26750.5645 - root_mean_squared_error: 163.5560 - val_loss: 19132.3359 - val_root_mean_squared_error: 138.3197\n",
      "Epoch 3/70\n",
      "136/136 [==============================] - 0s 1ms/step - loss: 14450.5264 - root_mean_squared_error: 120.2103 - val_loss: 10141.8516 - val_root_mean_squared_error: 100.7068\n",
      "Epoch 4/70\n",
      "136/136 [==============================] - 0s 1ms/step - loss: 8286.1289 - root_mean_squared_error: 91.0282 - val_loss: 7098.4155 - val_root_mean_squared_error: 84.2521\n",
      "Epoch 5/70\n",
      "136/136 [==============================] - 0s 919us/step - loss: 7010.7153 - root_mean_squared_error: 83.7300 - val_loss: 7054.5811 - val_root_mean_squared_error: 83.9916\n",
      "Epoch 6/70\n",
      "136/136 [==============================] - 0s 952us/step - loss: 7006.3726 - root_mean_squared_error: 83.7041 - val_loss: 7052.1118 - val_root_mean_squared_error: 83.9769\n",
      "Epoch 7/70\n",
      "136/136 [==============================] - 0s 1ms/step - loss: 7006.2856 - root_mean_squared_error: 83.7036 - val_loss: 7040.5601 - val_root_mean_squared_error: 83.9080\n",
      "Epoch 8/70\n",
      "136/136 [==============================] - 0s 1ms/step - loss: 7006.2280 - root_mean_squared_error: 83.7032 - val_loss: 7045.7900 - val_root_mean_squared_error: 83.9392\n",
      "Epoch 9/70\n",
      "136/136 [==============================] - 0s 1ms/step - loss: 7006.9146 - root_mean_squared_error: 83.7073 - val_loss: 7047.0366 - val_root_mean_squared_error: 83.9466\n",
      "Epoch 10/70\n",
      "136/136 [==============================] - 0s 1ms/step - loss: 7007.2866 - root_mean_squared_error: 83.7095 - val_loss: 7044.5737 - val_root_mean_squared_error: 83.9320\n",
      "Epoch 11/70\n",
      "136/136 [==============================] - 0s 989us/step - loss: 7007.9761 - root_mean_squared_error: 83.7137 - val_loss: 7043.1260 - val_root_mean_squared_error: 83.9233\n",
      "Epoch 12/70\n",
      "136/136 [==============================] - 0s 990us/step - loss: 7007.3140 - root_mean_squared_error: 83.7097 - val_loss: 7045.2495 - val_root_mean_squared_error: 83.9360\n",
      "Epoch 13/70\n",
      "136/136 [==============================] - 0s 1ms/step - loss: 7007.4404 - root_mean_squared_error: 83.7105 - val_loss: 7046.2295 - val_root_mean_squared_error: 83.9418\n",
      "Epoch 14/70\n",
      "136/136 [==============================] - 0s 996us/step - loss: 7007.6631 - root_mean_squared_error: 83.7118 - val_loss: 7047.9048 - val_root_mean_squared_error: 83.9518\n",
      "Epoch 15/70\n",
      "136/136 [==============================] - 0s 993us/step - loss: 7005.3413 - root_mean_squared_error: 83.6979 - val_loss: 7040.0610 - val_root_mean_squared_error: 83.9051\n",
      "Epoch 16/70\n",
      "136/136 [==============================] - 0s 965us/step - loss: 7006.7046 - root_mean_squared_error: 83.7061 - val_loss: 7058.8252 - val_root_mean_squared_error: 84.0168\n",
      "Epoch 17/70\n",
      "136/136 [==============================] - 0s 1ms/step - loss: 7007.8311 - root_mean_squared_error: 83.7128 - val_loss: 7043.3628 - val_root_mean_squared_error: 83.9247\n",
      "Epoch 18/70\n",
      "136/136 [==============================] - 0s 1ms/step - loss: 7005.8037 - root_mean_squared_error: 83.7007 - val_loss: 7068.6890 - val_root_mean_squared_error: 84.0755\n",
      "Epoch 19/70\n",
      "136/136 [==============================] - 0s 1ms/step - loss: 7008.2070 - root_mean_squared_error: 83.7150 - val_loss: 7050.8823 - val_root_mean_squared_error: 83.9695\n",
      "Epoch 20/70\n",
      "136/136 [==============================] - 0s 984us/step - loss: 7006.6187 - root_mean_squared_error: 83.7055 - val_loss: 7046.7524 - val_root_mean_squared_error: 83.9449\n",
      "Epoch 21/70\n",
      "136/136 [==============================] - 0s 1ms/step - loss: 7005.7930 - root_mean_squared_error: 83.7006 - val_loss: 7041.2212 - val_root_mean_squared_error: 83.9120\n",
      "Epoch 22/70\n",
      "136/136 [==============================] - 0s 969us/step - loss: 7007.6782 - root_mean_squared_error: 83.7119 - val_loss: 7041.9224 - val_root_mean_squared_error: 83.9162\n",
      "Epoch 23/70\n",
      "136/136 [==============================] - 0s 1ms/step - loss: 7007.5322 - root_mean_squared_error: 83.7110 - val_loss: 7044.8101 - val_root_mean_squared_error: 83.9334\n",
      "Epoch 24/70\n",
      "136/136 [==============================] - 0s 1ms/step - loss: 7007.6494 - root_mean_squared_error: 83.7117 - val_loss: 7042.5972 - val_root_mean_squared_error: 83.9202\n",
      "Epoch 25/70\n",
      "136/136 [==============================] - 0s 984us/step - loss: 7007.2939 - root_mean_squared_error: 83.7096 - val_loss: 7047.6069 - val_root_mean_squared_error: 83.9500\n",
      "Epoch 26/70\n",
      "136/136 [==============================] - 0s 1ms/step - loss: 7007.5771 - root_mean_squared_error: 83.7113 - val_loss: 7040.2466 - val_root_mean_squared_error: 83.9062\n",
      "Epoch 27/70\n",
      "136/136 [==============================] - 0s 1ms/step - loss: 7006.7480 - root_mean_squared_error: 83.7063 - val_loss: 7055.2368 - val_root_mean_squared_error: 83.9955\n",
      "Epoch 28/70\n",
      "136/136 [==============================] - 0s 963us/step - loss: 7007.1777 - root_mean_squared_error: 83.7089 - val_loss: 7045.2764 - val_root_mean_squared_error: 83.9361\n",
      "Epoch 29/70\n",
      "136/136 [==============================] - 0s 987us/step - loss: 7007.3315 - root_mean_squared_error: 83.7098 - val_loss: 7040.3418 - val_root_mean_squared_error: 83.9067\n",
      "Epoch 30/70\n",
      "136/136 [==============================] - 0s 976us/step - loss: 7008.0425 - root_mean_squared_error: 83.7141 - val_loss: 7046.2949 - val_root_mean_squared_error: 83.9422\n",
      "Epoch 31/70\n",
      "136/136 [==============================] - 0s 980us/step - loss: 7007.2188 - root_mean_squared_error: 83.7091 - val_loss: 7056.4980 - val_root_mean_squared_error: 84.0030\n",
      "Epoch 32/70\n",
      "136/136 [==============================] - 0s 1ms/step - loss: 7007.4253 - root_mean_squared_error: 83.7104 - val_loss: 7041.0229 - val_root_mean_squared_error: 83.9108\n",
      "Epoch 33/70\n",
      "136/136 [==============================] - 0s 965us/step - loss: 7007.0488 - root_mean_squared_error: 83.7081 - val_loss: 7051.2749 - val_root_mean_squared_error: 83.9719\n",
      "Epoch 34/70\n",
      "136/136 [==============================] - 0s 1ms/step - loss: 7006.7417 - root_mean_squared_error: 83.7063 - val_loss: 7055.1372 - val_root_mean_squared_error: 83.9949\n",
      "Epoch 35/70\n",
      "136/136 [==============================] - 0s 1ms/step - loss: 7006.9492 - root_mean_squared_error: 83.7075 - val_loss: 7047.1343 - val_root_mean_squared_error: 83.9472\n",
      "Epoch 36/70\n",
      "136/136 [==============================] - 0s 1ms/step - loss: 7006.6152 - root_mean_squared_error: 83.7055 - val_loss: 7065.7666 - val_root_mean_squared_error: 84.0581\n",
      "Epoch 37/70\n",
      "136/136 [==============================] - 0s 1ms/step - loss: 7005.8970 - root_mean_squared_error: 83.7012 - val_loss: 7052.3345 - val_root_mean_squared_error: 83.9782\n",
      "Epoch 38/70\n",
      "136/136 [==============================] - 0s 972us/step - loss: 7008.2876 - root_mean_squared_error: 83.7155 - val_loss: 7046.6265 - val_root_mean_squared_error: 83.9442\n",
      "Epoch 39/70\n",
      "136/136 [==============================] - 0s 993us/step - loss: 7007.5815 - root_mean_squared_error: 83.7113 - val_loss: 7049.4111 - val_root_mean_squared_error: 83.9608\n",
      "Epoch 40/70\n",
      "136/136 [==============================] - 0s 1ms/step - loss: 7006.7217 - root_mean_squared_error: 83.7062 - val_loss: 7044.8330 - val_root_mean_squared_error: 83.9335\n",
      "Epoch 41/70\n",
      "136/136 [==============================] - 0s 1ms/step - loss: 7004.5142 - root_mean_squared_error: 83.6930 - val_loss: 7055.2520 - val_root_mean_squared_error: 83.9955\n",
      "Epoch 42/70\n",
      "136/136 [==============================] - 0s 1ms/step - loss: 7007.7461 - root_mean_squared_error: 83.7123 - val_loss: 7041.4043 - val_root_mean_squared_error: 83.9131\n",
      "Epoch 43/70\n",
      "136/136 [==============================] - 0s 1ms/step - loss: 7008.2563 - root_mean_squared_error: 83.7153 - val_loss: 7047.7671 - val_root_mean_squared_error: 83.9510\n",
      "Epoch 44/70\n",
      "136/136 [==============================] - 0s 1ms/step - loss: 7006.7754 - root_mean_squared_error: 83.7065 - val_loss: 7055.6616 - val_root_mean_squared_error: 83.9980\n",
      "Epoch 45/70\n",
      "136/136 [==============================] - 0s 979us/step - loss: 7006.7520 - root_mean_squared_error: 83.7063 - val_loss: 7042.3218 - val_root_mean_squared_error: 83.9185\n"
     ]
    },
    {
     "name": "stdout",
     "output_type": "stream",
     "text": [
      "Epoch 46/70\n",
      "136/136 [==============================] - 0s 954us/step - loss: 7007.4736 - root_mean_squared_error: 83.7107 - val_loss: 7042.1812 - val_root_mean_squared_error: 83.9177\n",
      "Epoch 47/70\n",
      "136/136 [==============================] - 0s 1ms/step - loss: 7007.4360 - root_mean_squared_error: 83.7104 - val_loss: 7045.6724 - val_root_mean_squared_error: 83.9385\n",
      "Epoch 48/70\n",
      "136/136 [==============================] - 0s 998us/step - loss: 7007.7212 - root_mean_squared_error: 83.7121 - val_loss: 7042.6958 - val_root_mean_squared_error: 83.9208\n",
      "Epoch 49/70\n",
      "136/136 [==============================] - 0s 934us/step - loss: 7008.6348 - root_mean_squared_error: 83.7176 - val_loss: 7045.4678 - val_root_mean_squared_error: 83.9373\n",
      "Epoch 50/70\n",
      "136/136 [==============================] - 0s 975us/step - loss: 7007.1611 - root_mean_squared_error: 83.7088 - val_loss: 7041.7510 - val_root_mean_squared_error: 83.9151\n",
      "Epoch 51/70\n",
      "136/136 [==============================] - 0s 977us/step - loss: 7006.4243 - root_mean_squared_error: 83.7044 - val_loss: 7039.6001 - val_root_mean_squared_error: 83.9023\n",
      "Epoch 52/70\n",
      "136/136 [==============================] - 0s 988us/step - loss: 7007.1621 - root_mean_squared_error: 83.7088 - val_loss: 7056.3716 - val_root_mean_squared_error: 84.0022\n",
      "Epoch 53/70\n",
      "136/136 [==============================] - 0s 1ms/step - loss: 7007.4771 - root_mean_squared_error: 83.7107 - val_loss: 7055.3706 - val_root_mean_squared_error: 83.9963\n",
      "Epoch 54/70\n",
      "136/136 [==============================] - 0s 906us/step - loss: 7007.5459 - root_mean_squared_error: 83.7111 - val_loss: 7050.8228 - val_root_mean_squared_error: 83.9692\n",
      "Epoch 55/70\n",
      "136/136 [==============================] - 0s 1ms/step - loss: 7007.7017 - root_mean_squared_error: 83.7120 - val_loss: 7043.1870 - val_root_mean_squared_error: 83.9237\n",
      "Epoch 56/70\n",
      "136/136 [==============================] - 0s 1ms/step - loss: 7007.6294 - root_mean_squared_error: 83.7116 - val_loss: 7044.6655 - val_root_mean_squared_error: 83.9325\n",
      "Epoch 57/70\n",
      "136/136 [==============================] - 0s 1ms/step - loss: 7006.5039 - root_mean_squared_error: 83.7049 - val_loss: 7055.3086 - val_root_mean_squared_error: 83.9959\n",
      "Epoch 58/70\n",
      "136/136 [==============================] - 0s 910us/step - loss: 7008.3823 - root_mean_squared_error: 83.7161 - val_loss: 7044.8657 - val_root_mean_squared_error: 83.9337\n",
      "Epoch 59/70\n",
      "136/136 [==============================] - 0s 896us/step - loss: 7008.0811 - root_mean_squared_error: 83.7143 - val_loss: 7048.9800 - val_root_mean_squared_error: 83.9582\n",
      "Epoch 60/70\n",
      "136/136 [==============================] - 0s 941us/step - loss: 7006.5625 - root_mean_squared_error: 83.7052 - val_loss: 7042.8081 - val_root_mean_squared_error: 83.9214\n",
      "Epoch 61/70\n",
      "136/136 [==============================] - 0s 984us/step - loss: 7008.3955 - root_mean_squared_error: 83.7162 - val_loss: 7047.1235 - val_root_mean_squared_error: 83.9471\n",
      "Epoch 62/70\n",
      "136/136 [==============================] - 0s 938us/step - loss: 7007.3477 - root_mean_squared_error: 83.7099 - val_loss: 7050.3306 - val_root_mean_squared_error: 83.9662\n",
      "Epoch 63/70\n",
      "136/136 [==============================] - 0s 993us/step - loss: 7007.7783 - root_mean_squared_error: 83.7125 - val_loss: 7046.0142 - val_root_mean_squared_error: 83.9405\n",
      "Epoch 64/70\n",
      "136/136 [==============================] - 0s 938us/step - loss: 7007.5078 - root_mean_squared_error: 83.7109 - val_loss: 7049.7949 - val_root_mean_squared_error: 83.9631\n",
      "Epoch 65/70\n",
      "136/136 [==============================] - 0s 899us/step - loss: 7007.9028 - root_mean_squared_error: 83.7132 - val_loss: 7053.7847 - val_root_mean_squared_error: 83.9868\n",
      "Epoch 66/70\n",
      "136/136 [==============================] - 0s 957us/step - loss: 7007.7178 - root_mean_squared_error: 83.7121 - val_loss: 7056.4062 - val_root_mean_squared_error: 84.0024\n",
      "Epoch 67/70\n",
      "136/136 [==============================] - 0s 994us/step - loss: 7006.1987 - root_mean_squared_error: 83.7030 - val_loss: 7041.1255 - val_root_mean_squared_error: 83.9114\n",
      "Epoch 68/70\n",
      "136/136 [==============================] - 0s 841us/step - loss: 7004.8052 - root_mean_squared_error: 83.6947 - val_loss: 7055.1294 - val_root_mean_squared_error: 83.9948\n",
      "Epoch 69/70\n",
      "136/136 [==============================] - 0s 921us/step - loss: 7007.6621 - root_mean_squared_error: 83.7118 - val_loss: 7045.7383 - val_root_mean_squared_error: 83.9389\n",
      "Epoch 70/70\n",
      "136/136 [==============================] - 0s 929us/step - loss: 7007.3081 - root_mean_squared_error: 83.7097 - val_loss: 7056.0972 - val_root_mean_squared_error: 84.0006\n",
      "79.86302185058594\n"
     ]
    },
    {
     "data": {
      "image/png": "[encoded data removed]",
      "text/plain": [
       "<Figure size 432x288 with 1 Axes>"
      ]
     },
     "metadata": {
      "needs_background": "light"
     },
     "output_type": "display_data"
    }
   ],
   "source": [
    "#@title Double-click to view the complete implementation.\n",
    "\n",
    "# The following variables are the hyperparameters.\n",
    "learning_rate = 0.08\n",
    "epochs = 70\n",
    "batch_size = 100\n",
    "\n",
    "# Split the original training set into a reduced training set and a\n",
    "# validation set. \n",
    "validation_split = 0.2\n",
    "\n",
    "# Identify the feature and the label.\n",
    "my_feature = \"median_income\"    # the median income on a specific city block.\n",
    "my_label = \"median_house_value\" # the median house value on a specific city block.\n",
    "# That is, you're going to create a model that predicts house value based \n",
    "# solely on the neighborhood's median income.  \n",
    "\n",
    "# Discard any pre-existing version of the model.\n",
    "my_model = None\n",
    "\n",
    "# Shuffle the examples.\n",
    "shuffled_train_df = train_df.reindex(np.random.permutation(train_df.index)) \n",
    "\n",
    "# Invoke the functions to build and train the model. Train on the shuffled\n",
    "# training set.\n",
    "my_model = build_model(learning_rate)\n",
    "epochs, rmse, history = train_model(my_model, shuffled_train_df, my_feature, \n",
    "                                    my_label, epochs, batch_size, \n",
    "                                    validation_split)\n",
    "\n",
    "plot_the_loss_curve(epochs, history[\"root_mean_squared_error\"], \n",
    "                    history[\"val_root_mean_squared_error\"])"
   ]
  },
  {
   "cell_type": "markdown",
   "metadata": {
    "id": "tKN239_miW8C"
   },
   "source": [
    "Experiment with `validation_split` to answer the following questions:\n",
    "\n",
    "* With the training set shuffled, is the final loss for the training set closer to the final loss for the validation set?  \n",
    "* At what range of values of `validation_split` do the final loss values for the training set and validation set diverge meaningfully?  Why?"
   ]
  },
  {
   "cell_type": "code",
   "execution_count": 11,
   "metadata": {
    "cellView": "form",
    "id": "-UAJ3Q86iz31"
   },
   "outputs": [],
   "source": [
    "#@title Double-click for the answers to the questions\n",
    "\n",
    "# Yes, after shuffling the original training set, \n",
    "# the final loss for the training set and the \n",
    "# validation set become much closer.\n",
    "\n",
    "# If validation_split < 0.15,\n",
    "# the final loss values for the training set and\n",
    "# validation set diverge meaningfully.  Apparently,\n",
    "# the validation set no longer contains enough examples. "
   ]
  },
  {
   "cell_type": "markdown",
   "metadata": {
    "id": "1PP-O8TOZOeo"
   },
   "source": [
    "## Task 4: Use the Test Dataset to Evaluate Your Model's Performance\n",
    "\n",
    "The test set usually acts as the ultimate judge of a model's quality. The test set can serve as an impartial judge because its examples haven't been used in training the model. Run the following code cell to evaluate the model with the test set:"
   ]
  },
  {
   "cell_type": "code",
   "execution_count": 12,
   "metadata": {
    "id": "nd_Sw2cygOip"
   },
   "outputs": [
    {
     "name": "stdout",
     "output_type": "stream",
     "text": [
      "30/30 [==============================] - 0s 648us/step - loss: 7012.6655 - root_mean_squared_error: 83.7417\n"
     ]
    }
   ],
   "source": [
    "x_test = test_df[my_feature]\n",
    "y_test = test_df[my_label]\n",
    "\n",
    "results = my_model.evaluate(x_test, y_test, batch_size=batch_size)"
   ]
  },
  {
   "cell_type": "markdown",
   "metadata": {
    "id": "qoyQKvsjmV_A"
   },
   "source": [
    "Compare the root mean squared error of the model when evaluated on each of the three datasets:\n",
    "\n",
    "* training set: look for `root_mean_squared_error` in the final training epoch.\n",
    "* validation set: look for `val_root_mean_squared_error` in the final training epoch.\n",
    "* test set: run the preceding code cell and examine the `root_mean_squared_error`.\n",
    "\n",
    "Ideally, the root mean squared error of all three sets should be similar. Are they?"
   ]
  },
  {
   "cell_type": "code",
   "execution_count": 13,
   "metadata": {
    "cellView": "form",
    "id": "FxXtp-aVdIgJ"
   },
   "outputs": [],
   "source": [
    "#@title Double-click for an answer\n",
    "\n",
    "# In our experiments, yes, the rmse values \n",
    "# were similar enough. "
   ]
  }
 ],
 "metadata": {
  "colab": {
   "collapsed_sections": [],
   "name": "Validation and Test Sets.ipynb",
   "private_outputs": true,
   "provenance": []
  },
  "kernelspec": {
   "display_name": "Python 3",
   "language": "python",
   "name": "python3"
  },
  "language_info": {
   "codemirror_mode": {
    "name": "ipython",
    "version": 3
   },
   "file_extension": ".py",
   "mimetype": "text/x-python",
   "name": "python",
   "nbconvert_exporter": "python",
   "pygments_lexer": "ipython3",
   "version": "3.8.5"
  }
 },
 "nbformat": 4,
 "nbformat_minor": 1
}
